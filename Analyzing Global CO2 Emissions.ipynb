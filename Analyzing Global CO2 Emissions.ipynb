{
 "cells": [
  {
   "cell_type": "markdown",
   "id": "641a6edb",
   "metadata": {
    "papermill": {
     "duration": 0.015435,
     "end_time": "2023-08-09T19:29:40.179550",
     "exception": false,
     "start_time": "2023-08-09T19:29:40.164115",
     "status": "completed"
    },
    "tags": []
   },
   "source": [
    "# CO2 emissions in the world\n",
    "Trying to see if there's some relationship with countries features and the emission of CO2 in the world."
   ]
  },
  {
   "cell_type": "markdown",
   "id": "af0fa886",
   "metadata": {
    "papermill": {
     "duration": 0.015983,
     "end_time": "2023-08-09T19:29:40.210472",
     "exception": false,
     "start_time": "2023-08-09T19:29:40.194489",
     "status": "completed"
    },
    "tags": []
   },
   "source": [
    "# Getting Data"
   ]
  },
  {
   "cell_type": "markdown",
   "id": "517cd00c",
   "metadata": {
    "papermill": {
     "duration": 0.014338,
     "end_time": "2023-08-09T19:29:40.239538",
     "exception": false,
     "start_time": "2023-08-09T19:29:40.225200",
     "status": "completed"
    },
    "tags": []
   },
   "source": [
    "## Setting up the environment\n",
    "- Pandas for treating and manipulating data\n",
    "- Plotly.express for plotting graphs"
   ]
  },
  {
   "cell_type": "code",
   "execution_count": 1,
   "id": "63a0eaa0",
   "metadata": {
    "_cell_guid": "b1076dfc-b9ad-4769-8c92-a6c4dae69d19",
    "_uuid": "8f2839f25d086af736a60e9eeb907d3b93b6e0e5",
    "execution": {
     "iopub.execute_input": "2023-08-09T19:29:40.271295Z",
     "iopub.status.busy": "2023-08-09T19:29:40.270181Z",
     "iopub.status.idle": "2023-08-09T19:29:41.145281Z",
     "shell.execute_reply": "2023-08-09T19:29:41.144298Z"
    },
    "papermill": {
     "duration": 0.894129,
     "end_time": "2023-08-09T19:29:41.148234",
     "exception": false,
     "start_time": "2023-08-09T19:29:40.254105",
     "status": "completed"
    },
    "tags": []
   },
   "outputs": [],
   "source": [
    "import pandas as pd\n",
    "import plotly.express as px"
   ]
  },
  {
   "cell_type": "markdown",
   "id": "80737432",
   "metadata": {
    "papermill": {
     "duration": 0.014848,
     "end_time": "2023-08-09T19:29:41.178380",
     "exception": false,
     "start_time": "2023-08-09T19:29:41.163532",
     "status": "completed"
    },
    "tags": []
   },
   "source": [
    "## Reading data"
   ]
  },
  {
   "cell_type": "code",
   "execution_count": 2,
   "id": "121b0579",
   "metadata": {
    "execution": {
     "iopub.execute_input": "2023-08-09T19:29:41.209691Z",
     "iopub.status.busy": "2023-08-09T19:29:41.209272Z",
     "iopub.status.idle": "2023-08-09T19:29:41.258781Z",
     "shell.execute_reply": "2023-08-09T19:29:41.257852Z"
    },
    "papermill": {
     "duration": 0.068077,
     "end_time": "2023-08-09T19:29:41.261318",
     "exception": false,
     "start_time": "2023-08-09T19:29:41.193241",
     "status": "completed"
    },
    "tags": []
   },
   "outputs": [],
   "source": [
    "# Path to dataset csv file\n",
    "energy_data_filepath = '../input/global-data-on-sustainable-energy/global-data-on-sustainable-energy (1).csv'\n",
    "\n",
    "# Reading the dataset csv file\n",
    "energy_data = pd.read_csv(energy_data_filepath)"
   ]
  },
  {
   "cell_type": "code",
   "execution_count": 3,
   "id": "92b95b66",
   "metadata": {
    "execution": {
     "iopub.execute_input": "2023-08-09T19:29:41.293888Z",
     "iopub.status.busy": "2023-08-09T19:29:41.293207Z",
     "iopub.status.idle": "2023-08-09T19:29:41.342571Z",
     "shell.execute_reply": "2023-08-09T19:29:41.341244Z"
    },
    "papermill": {
     "duration": 0.068863,
     "end_time": "2023-08-09T19:29:41.345337",
     "exception": false,
     "start_time": "2023-08-09T19:29:41.276474",
     "status": "completed"
    },
    "tags": []
   },
   "outputs": [
    {
     "data": {
      "text/html": [
       "<div>\n",
       "<style scoped>\n",
       "    .dataframe tbody tr th:only-of-type {\n",
       "        vertical-align: middle;\n",
       "    }\n",
       "\n",
       "    .dataframe tbody tr th {\n",
       "        vertical-align: top;\n",
       "    }\n",
       "\n",
       "    .dataframe thead th {\n",
       "        text-align: right;\n",
       "    }\n",
       "</style>\n",
       "<table border=\"1\" class=\"dataframe\">\n",
       "  <thead>\n",
       "    <tr style=\"text-align: right;\">\n",
       "      <th></th>\n",
       "      <th>Entity</th>\n",
       "      <th>Year</th>\n",
       "      <th>Access to electricity (% of population)</th>\n",
       "      <th>Access to clean fuels for cooking</th>\n",
       "      <th>Renewable-electricity-generating-capacity-per-capita</th>\n",
       "      <th>Financial flows to developing countries (US $)</th>\n",
       "      <th>Renewable energy share in the total final energy consumption (%)</th>\n",
       "      <th>Electricity from fossil fuels (TWh)</th>\n",
       "      <th>Electricity from nuclear (TWh)</th>\n",
       "      <th>Electricity from renewables (TWh)</th>\n",
       "      <th>...</th>\n",
       "      <th>Primary energy consumption per capita (kWh/person)</th>\n",
       "      <th>Energy intensity level of primary energy (MJ/$2017 PPP GDP)</th>\n",
       "      <th>Value_co2_emissions_kt_by_country</th>\n",
       "      <th>Renewables (% equivalent primary energy)</th>\n",
       "      <th>gdp_growth</th>\n",
       "      <th>gdp_per_capita</th>\n",
       "      <th>Density\\n(P/Km2)</th>\n",
       "      <th>Land Area(Km2)</th>\n",
       "      <th>Latitude</th>\n",
       "      <th>Longitude</th>\n",
       "    </tr>\n",
       "  </thead>\n",
       "  <tbody>\n",
       "    <tr>\n",
       "      <th>0</th>\n",
       "      <td>Afghanistan</td>\n",
       "      <td>2000</td>\n",
       "      <td>1.613591</td>\n",
       "      <td>6.20</td>\n",
       "      <td>9.22</td>\n",
       "      <td>20000.0</td>\n",
       "      <td>44.99</td>\n",
       "      <td>0.16</td>\n",
       "      <td>0.0</td>\n",
       "      <td>0.31</td>\n",
       "      <td>...</td>\n",
       "      <td>302.59482</td>\n",
       "      <td>1.64</td>\n",
       "      <td>760.000000</td>\n",
       "      <td>NaN</td>\n",
       "      <td>NaN</td>\n",
       "      <td>NaN</td>\n",
       "      <td>60</td>\n",
       "      <td>6,52,230</td>\n",
       "      <td>33.93911</td>\n",
       "      <td>67.709953</td>\n",
       "    </tr>\n",
       "    <tr>\n",
       "      <th>1</th>\n",
       "      <td>Afghanistan</td>\n",
       "      <td>2001</td>\n",
       "      <td>4.074574</td>\n",
       "      <td>7.20</td>\n",
       "      <td>8.86</td>\n",
       "      <td>130000.0</td>\n",
       "      <td>45.60</td>\n",
       "      <td>0.09</td>\n",
       "      <td>0.0</td>\n",
       "      <td>0.50</td>\n",
       "      <td>...</td>\n",
       "      <td>236.89185</td>\n",
       "      <td>1.74</td>\n",
       "      <td>730.000000</td>\n",
       "      <td>NaN</td>\n",
       "      <td>NaN</td>\n",
       "      <td>NaN</td>\n",
       "      <td>60</td>\n",
       "      <td>6,52,230</td>\n",
       "      <td>33.93911</td>\n",
       "      <td>67.709953</td>\n",
       "    </tr>\n",
       "    <tr>\n",
       "      <th>2</th>\n",
       "      <td>Afghanistan</td>\n",
       "      <td>2002</td>\n",
       "      <td>9.409158</td>\n",
       "      <td>8.20</td>\n",
       "      <td>8.47</td>\n",
       "      <td>3950000.0</td>\n",
       "      <td>37.83</td>\n",
       "      <td>0.13</td>\n",
       "      <td>0.0</td>\n",
       "      <td>0.56</td>\n",
       "      <td>...</td>\n",
       "      <td>210.86215</td>\n",
       "      <td>1.40</td>\n",
       "      <td>1029.999971</td>\n",
       "      <td>NaN</td>\n",
       "      <td>NaN</td>\n",
       "      <td>179.426579</td>\n",
       "      <td>60</td>\n",
       "      <td>6,52,230</td>\n",
       "      <td>33.93911</td>\n",
       "      <td>67.709953</td>\n",
       "    </tr>\n",
       "    <tr>\n",
       "      <th>3</th>\n",
       "      <td>Afghanistan</td>\n",
       "      <td>2003</td>\n",
       "      <td>14.738506</td>\n",
       "      <td>9.50</td>\n",
       "      <td>8.09</td>\n",
       "      <td>25970000.0</td>\n",
       "      <td>36.66</td>\n",
       "      <td>0.31</td>\n",
       "      <td>0.0</td>\n",
       "      <td>0.63</td>\n",
       "      <td>...</td>\n",
       "      <td>229.96822</td>\n",
       "      <td>1.40</td>\n",
       "      <td>1220.000029</td>\n",
       "      <td>NaN</td>\n",
       "      <td>8.832278</td>\n",
       "      <td>190.683814</td>\n",
       "      <td>60</td>\n",
       "      <td>6,52,230</td>\n",
       "      <td>33.93911</td>\n",
       "      <td>67.709953</td>\n",
       "    </tr>\n",
       "    <tr>\n",
       "      <th>4</th>\n",
       "      <td>Afghanistan</td>\n",
       "      <td>2004</td>\n",
       "      <td>20.064968</td>\n",
       "      <td>10.90</td>\n",
       "      <td>7.75</td>\n",
       "      <td>NaN</td>\n",
       "      <td>44.24</td>\n",
       "      <td>0.33</td>\n",
       "      <td>0.0</td>\n",
       "      <td>0.56</td>\n",
       "      <td>...</td>\n",
       "      <td>204.23125</td>\n",
       "      <td>1.20</td>\n",
       "      <td>1029.999971</td>\n",
       "      <td>NaN</td>\n",
       "      <td>1.414118</td>\n",
       "      <td>211.382074</td>\n",
       "      <td>60</td>\n",
       "      <td>6,52,230</td>\n",
       "      <td>33.93911</td>\n",
       "      <td>67.709953</td>\n",
       "    </tr>\n",
       "    <tr>\n",
       "      <th>5</th>\n",
       "      <td>Afghanistan</td>\n",
       "      <td>2005</td>\n",
       "      <td>25.390894</td>\n",
       "      <td>12.20</td>\n",
       "      <td>7.51</td>\n",
       "      <td>9830000.0</td>\n",
       "      <td>33.88</td>\n",
       "      <td>0.34</td>\n",
       "      <td>0.0</td>\n",
       "      <td>0.59</td>\n",
       "      <td>...</td>\n",
       "      <td>252.06912</td>\n",
       "      <td>1.41</td>\n",
       "      <td>1549.999952</td>\n",
       "      <td>NaN</td>\n",
       "      <td>11.229715</td>\n",
       "      <td>242.031313</td>\n",
       "      <td>60</td>\n",
       "      <td>6,52,230</td>\n",
       "      <td>33.93911</td>\n",
       "      <td>67.709953</td>\n",
       "    </tr>\n",
       "    <tr>\n",
       "      <th>6</th>\n",
       "      <td>Afghanistan</td>\n",
       "      <td>2006</td>\n",
       "      <td>30.718690</td>\n",
       "      <td>13.85</td>\n",
       "      <td>7.40</td>\n",
       "      <td>10620000.0</td>\n",
       "      <td>31.89</td>\n",
       "      <td>0.20</td>\n",
       "      <td>0.0</td>\n",
       "      <td>0.64</td>\n",
       "      <td>...</td>\n",
       "      <td>304.42090</td>\n",
       "      <td>1.50</td>\n",
       "      <td>1759.999990</td>\n",
       "      <td>NaN</td>\n",
       "      <td>5.357403</td>\n",
       "      <td>263.733602</td>\n",
       "      <td>60</td>\n",
       "      <td>6,52,230</td>\n",
       "      <td>33.93911</td>\n",
       "      <td>67.709953</td>\n",
       "    </tr>\n",
       "    <tr>\n",
       "      <th>7</th>\n",
       "      <td>Afghanistan</td>\n",
       "      <td>2007</td>\n",
       "      <td>36.051010</td>\n",
       "      <td>15.30</td>\n",
       "      <td>7.25</td>\n",
       "      <td>15750000.0</td>\n",
       "      <td>28.78</td>\n",
       "      <td>0.20</td>\n",
       "      <td>0.0</td>\n",
       "      <td>0.75</td>\n",
       "      <td>...</td>\n",
       "      <td>354.27990</td>\n",
       "      <td>1.53</td>\n",
       "      <td>1769.999981</td>\n",
       "      <td>NaN</td>\n",
       "      <td>13.826320</td>\n",
       "      <td>359.693158</td>\n",
       "      <td>60</td>\n",
       "      <td>6,52,230</td>\n",
       "      <td>33.93911</td>\n",
       "      <td>67.709953</td>\n",
       "    </tr>\n",
       "    <tr>\n",
       "      <th>8</th>\n",
       "      <td>Afghanistan</td>\n",
       "      <td>2008</td>\n",
       "      <td>42.400000</td>\n",
       "      <td>16.70</td>\n",
       "      <td>7.49</td>\n",
       "      <td>16170000.0</td>\n",
       "      <td>21.17</td>\n",
       "      <td>0.19</td>\n",
       "      <td>0.0</td>\n",
       "      <td>0.54</td>\n",
       "      <td>...</td>\n",
       "      <td>607.83350</td>\n",
       "      <td>1.94</td>\n",
       "      <td>3559.999943</td>\n",
       "      <td>NaN</td>\n",
       "      <td>3.924984</td>\n",
       "      <td>364.663542</td>\n",
       "      <td>60</td>\n",
       "      <td>6,52,230</td>\n",
       "      <td>33.93911</td>\n",
       "      <td>67.709953</td>\n",
       "    </tr>\n",
       "    <tr>\n",
       "      <th>9</th>\n",
       "      <td>Afghanistan</td>\n",
       "      <td>2009</td>\n",
       "      <td>46.740050</td>\n",
       "      <td>18.40</td>\n",
       "      <td>7.50</td>\n",
       "      <td>9960000.0</td>\n",
       "      <td>16.53</td>\n",
       "      <td>0.16</td>\n",
       "      <td>0.0</td>\n",
       "      <td>0.78</td>\n",
       "      <td>...</td>\n",
       "      <td>975.04816</td>\n",
       "      <td>2.25</td>\n",
       "      <td>4880.000114</td>\n",
       "      <td>NaN</td>\n",
       "      <td>21.390528</td>\n",
       "      <td>437.268740</td>\n",
       "      <td>60</td>\n",
       "      <td>6,52,230</td>\n",
       "      <td>33.93911</td>\n",
       "      <td>67.709953</td>\n",
       "    </tr>\n",
       "  </tbody>\n",
       "</table>\n",
       "<p>10 rows × 21 columns</p>\n",
       "</div>"
      ],
      "text/plain": [
       "        Entity  Year  Access to electricity (% of population)  \\\n",
       "0  Afghanistan  2000                                 1.613591   \n",
       "1  Afghanistan  2001                                 4.074574   \n",
       "2  Afghanistan  2002                                 9.409158   \n",
       "3  Afghanistan  2003                                14.738506   \n",
       "4  Afghanistan  2004                                20.064968   \n",
       "5  Afghanistan  2005                                25.390894   \n",
       "6  Afghanistan  2006                                30.718690   \n",
       "7  Afghanistan  2007                                36.051010   \n",
       "8  Afghanistan  2008                                42.400000   \n",
       "9  Afghanistan  2009                                46.740050   \n",
       "\n",
       "   Access to clean fuels for cooking  \\\n",
       "0                               6.20   \n",
       "1                               7.20   \n",
       "2                               8.20   \n",
       "3                               9.50   \n",
       "4                              10.90   \n",
       "5                              12.20   \n",
       "6                              13.85   \n",
       "7                              15.30   \n",
       "8                              16.70   \n",
       "9                              18.40   \n",
       "\n",
       "   Renewable-electricity-generating-capacity-per-capita  \\\n",
       "0                                               9.22      \n",
       "1                                               8.86      \n",
       "2                                               8.47      \n",
       "3                                               8.09      \n",
       "4                                               7.75      \n",
       "5                                               7.51      \n",
       "6                                               7.40      \n",
       "7                                               7.25      \n",
       "8                                               7.49      \n",
       "9                                               7.50      \n",
       "\n",
       "   Financial flows to developing countries (US $)  \\\n",
       "0                                         20000.0   \n",
       "1                                        130000.0   \n",
       "2                                       3950000.0   \n",
       "3                                      25970000.0   \n",
       "4                                             NaN   \n",
       "5                                       9830000.0   \n",
       "6                                      10620000.0   \n",
       "7                                      15750000.0   \n",
       "8                                      16170000.0   \n",
       "9                                       9960000.0   \n",
       "\n",
       "   Renewable energy share in the total final energy consumption (%)  \\\n",
       "0                                              44.99                  \n",
       "1                                              45.60                  \n",
       "2                                              37.83                  \n",
       "3                                              36.66                  \n",
       "4                                              44.24                  \n",
       "5                                              33.88                  \n",
       "6                                              31.89                  \n",
       "7                                              28.78                  \n",
       "8                                              21.17                  \n",
       "9                                              16.53                  \n",
       "\n",
       "   Electricity from fossil fuels (TWh)  Electricity from nuclear (TWh)  \\\n",
       "0                                 0.16                             0.0   \n",
       "1                                 0.09                             0.0   \n",
       "2                                 0.13                             0.0   \n",
       "3                                 0.31                             0.0   \n",
       "4                                 0.33                             0.0   \n",
       "5                                 0.34                             0.0   \n",
       "6                                 0.20                             0.0   \n",
       "7                                 0.20                             0.0   \n",
       "8                                 0.19                             0.0   \n",
       "9                                 0.16                             0.0   \n",
       "\n",
       "   Electricity from renewables (TWh)  ...  \\\n",
       "0                               0.31  ...   \n",
       "1                               0.50  ...   \n",
       "2                               0.56  ...   \n",
       "3                               0.63  ...   \n",
       "4                               0.56  ...   \n",
       "5                               0.59  ...   \n",
       "6                               0.64  ...   \n",
       "7                               0.75  ...   \n",
       "8                               0.54  ...   \n",
       "9                               0.78  ...   \n",
       "\n",
       "   Primary energy consumption per capita (kWh/person)  \\\n",
       "0                                          302.59482    \n",
       "1                                          236.89185    \n",
       "2                                          210.86215    \n",
       "3                                          229.96822    \n",
       "4                                          204.23125    \n",
       "5                                          252.06912    \n",
       "6                                          304.42090    \n",
       "7                                          354.27990    \n",
       "8                                          607.83350    \n",
       "9                                          975.04816    \n",
       "\n",
       "   Energy intensity level of primary energy (MJ/$2017 PPP GDP)  \\\n",
       "0                                               1.64             \n",
       "1                                               1.74             \n",
       "2                                               1.40             \n",
       "3                                               1.40             \n",
       "4                                               1.20             \n",
       "5                                               1.41             \n",
       "6                                               1.50             \n",
       "7                                               1.53             \n",
       "8                                               1.94             \n",
       "9                                               2.25             \n",
       "\n",
       "   Value_co2_emissions_kt_by_country  \\\n",
       "0                         760.000000   \n",
       "1                         730.000000   \n",
       "2                        1029.999971   \n",
       "3                        1220.000029   \n",
       "4                        1029.999971   \n",
       "5                        1549.999952   \n",
       "6                        1759.999990   \n",
       "7                        1769.999981   \n",
       "8                        3559.999943   \n",
       "9                        4880.000114   \n",
       "\n",
       "   Renewables (% equivalent primary energy)  gdp_growth  gdp_per_capita  \\\n",
       "0                                       NaN         NaN             NaN   \n",
       "1                                       NaN         NaN             NaN   \n",
       "2                                       NaN         NaN      179.426579   \n",
       "3                                       NaN    8.832278      190.683814   \n",
       "4                                       NaN    1.414118      211.382074   \n",
       "5                                       NaN   11.229715      242.031313   \n",
       "6                                       NaN    5.357403      263.733602   \n",
       "7                                       NaN   13.826320      359.693158   \n",
       "8                                       NaN    3.924984      364.663542   \n",
       "9                                       NaN   21.390528      437.268740   \n",
       "\n",
       "   Density\\n(P/Km2) Land Area(Km2)  Latitude  Longitude  \n",
       "0                60       6,52,230  33.93911  67.709953  \n",
       "1                60       6,52,230  33.93911  67.709953  \n",
       "2                60       6,52,230  33.93911  67.709953  \n",
       "3                60       6,52,230  33.93911  67.709953  \n",
       "4                60       6,52,230  33.93911  67.709953  \n",
       "5                60       6,52,230  33.93911  67.709953  \n",
       "6                60       6,52,230  33.93911  67.709953  \n",
       "7                60       6,52,230  33.93911  67.709953  \n",
       "8                60       6,52,230  33.93911  67.709953  \n",
       "9                60       6,52,230  33.93911  67.709953  \n",
       "\n",
       "[10 rows x 21 columns]"
      ]
     },
     "execution_count": 3,
     "metadata": {},
     "output_type": "execute_result"
    }
   ],
   "source": [
    "energy_data.head(10)"
   ]
  },
  {
   "cell_type": "markdown",
   "id": "6bbf389b",
   "metadata": {
    "papermill": {
     "duration": 0.015606,
     "end_time": "2023-08-09T19:29:41.376728",
     "exception": false,
     "start_time": "2023-08-09T19:29:41.361122",
     "status": "completed"
    },
    "tags": []
   },
   "source": [
    "# CO2 emission and Country Land Area\n",
    "Let's try to see if the country land area is, in someway, related with the number of CO2 emission"
   ]
  },
  {
   "cell_type": "markdown",
   "id": "1b023678",
   "metadata": {
    "papermill": {
     "duration": 0.015377,
     "end_time": "2023-08-09T19:29:41.407735",
     "exception": false,
     "start_time": "2023-08-09T19:29:41.392358",
     "status": "completed"
    },
    "tags": []
   },
   "source": [
    "## Getting only the necessary columns - i.e Entity and Land Area"
   ]
  },
  {
   "cell_type": "code",
   "execution_count": 4,
   "id": "65581149",
   "metadata": {
    "execution": {
     "iopub.execute_input": "2023-08-09T19:29:41.440659Z",
     "iopub.status.busy": "2023-08-09T19:29:41.440255Z",
     "iopub.status.idle": "2023-08-09T19:29:41.455235Z",
     "shell.execute_reply": "2023-08-09T19:29:41.453968Z"
    },
    "papermill": {
     "duration": 0.034151,
     "end_time": "2023-08-09T19:29:41.457463",
     "exception": false,
     "start_time": "2023-08-09T19:29:41.423312",
     "status": "completed"
    },
    "tags": []
   },
   "outputs": [
    {
     "data": {
      "text/html": [
       "<div>\n",
       "<style scoped>\n",
       "    .dataframe tbody tr th:only-of-type {\n",
       "        vertical-align: middle;\n",
       "    }\n",
       "\n",
       "    .dataframe tbody tr th {\n",
       "        vertical-align: top;\n",
       "    }\n",
       "\n",
       "    .dataframe thead th {\n",
       "        text-align: right;\n",
       "    }\n",
       "</style>\n",
       "<table border=\"1\" class=\"dataframe\">\n",
       "  <thead>\n",
       "    <tr style=\"text-align: right;\">\n",
       "      <th></th>\n",
       "      <th>Entity</th>\n",
       "      <th>Land Area(Km2)</th>\n",
       "    </tr>\n",
       "  </thead>\n",
       "  <tbody>\n",
       "    <tr>\n",
       "      <th>0</th>\n",
       "      <td>Afghanistan</td>\n",
       "      <td>6,52,230</td>\n",
       "    </tr>\n",
       "    <tr>\n",
       "      <th>1</th>\n",
       "      <td>Afghanistan</td>\n",
       "      <td>6,52,230</td>\n",
       "    </tr>\n",
       "    <tr>\n",
       "      <th>2</th>\n",
       "      <td>Afghanistan</td>\n",
       "      <td>6,52,230</td>\n",
       "    </tr>\n",
       "    <tr>\n",
       "      <th>3</th>\n",
       "      <td>Afghanistan</td>\n",
       "      <td>6,52,230</td>\n",
       "    </tr>\n",
       "    <tr>\n",
       "      <th>4</th>\n",
       "      <td>Afghanistan</td>\n",
       "      <td>6,52,230</td>\n",
       "    </tr>\n",
       "  </tbody>\n",
       "</table>\n",
       "</div>"
      ],
      "text/plain": [
       "        Entity Land Area(Km2)\n",
       "0  Afghanistan       6,52,230\n",
       "1  Afghanistan       6,52,230\n",
       "2  Afghanistan       6,52,230\n",
       "3  Afghanistan       6,52,230\n",
       "4  Afghanistan       6,52,230"
      ]
     },
     "execution_count": 4,
     "metadata": {},
     "output_type": "execute_result"
    }
   ],
   "source": [
    "energy_land_data = energy_data[['Entity', 'Land Area(Km2)']]\n",
    "energy_land_data.head()"
   ]
  },
  {
   "cell_type": "code",
   "execution_count": 5,
   "id": "d241c955",
   "metadata": {
    "execution": {
     "iopub.execute_input": "2023-08-09T19:29:41.491484Z",
     "iopub.status.busy": "2023-08-09T19:29:41.490464Z",
     "iopub.status.idle": "2023-08-09T19:29:41.497282Z",
     "shell.execute_reply": "2023-08-09T19:29:41.496495Z"
    },
    "papermill": {
     "duration": 0.026023,
     "end_time": "2023-08-09T19:29:41.499368",
     "exception": false,
     "start_time": "2023-08-09T19:29:41.473345",
     "status": "completed"
    },
    "tags": []
   },
   "outputs": [
    {
     "data": {
      "text/plain": [
       "(3649, 2)"
      ]
     },
     "execution_count": 5,
     "metadata": {},
     "output_type": "execute_result"
    }
   ],
   "source": [
    "energy_land_data.shape"
   ]
  },
  {
   "cell_type": "markdown",
   "id": "0c39cdf1",
   "metadata": {
    "papermill": {
     "duration": 0.015678,
     "end_time": "2023-08-09T19:29:41.531023",
     "exception": false,
     "start_time": "2023-08-09T19:29:41.515345",
     "status": "completed"
    },
    "tags": []
   },
   "source": [
    "## Seeing if there are any null values"
   ]
  },
  {
   "cell_type": "code",
   "execution_count": 6,
   "id": "3c0e622e",
   "metadata": {
    "execution": {
     "iopub.execute_input": "2023-08-09T19:29:41.564968Z",
     "iopub.status.busy": "2023-08-09T19:29:41.564386Z",
     "iopub.status.idle": "2023-08-09T19:29:41.583389Z",
     "shell.execute_reply": "2023-08-09T19:29:41.582102Z"
    },
    "papermill": {
     "duration": 0.038982,
     "end_time": "2023-08-09T19:29:41.585967",
     "exception": false,
     "start_time": "2023-08-09T19:29:41.546985",
     "status": "completed"
    },
    "tags": []
   },
   "outputs": [
    {
     "name": "stdout",
     "output_type": "stream",
     "text": [
      "<class 'pandas.core.frame.DataFrame'>\n",
      "RangeIndex: 3649 entries, 0 to 3648\n",
      "Data columns (total 2 columns):\n",
      " #   Column          Non-Null Count  Dtype \n",
      "---  ------          --------------  ----- \n",
      " 0   Entity          3649 non-null   object\n",
      " 1   Land Area(Km2)  3648 non-null   object\n",
      "dtypes: object(2)\n",
      "memory usage: 57.1+ KB\n"
     ]
    }
   ],
   "source": [
    "energy_land_data.info()"
   ]
  },
  {
   "cell_type": "code",
   "execution_count": 7,
   "id": "a8fd563d",
   "metadata": {
    "execution": {
     "iopub.execute_input": "2023-08-09T19:29:41.620193Z",
     "iopub.status.busy": "2023-08-09T19:29:41.619451Z",
     "iopub.status.idle": "2023-08-09T19:29:41.630080Z",
     "shell.execute_reply": "2023-08-09T19:29:41.629308Z"
    },
    "papermill": {
     "duration": 0.029911,
     "end_time": "2023-08-09T19:29:41.632136",
     "exception": false,
     "start_time": "2023-08-09T19:29:41.602225",
     "status": "completed"
    },
    "tags": []
   },
   "outputs": [
    {
     "data": {
      "text/plain": [
       "Entity            0\n",
       "Land Area(Km2)    1\n",
       "dtype: int64"
      ]
     },
     "execution_count": 7,
     "metadata": {},
     "output_type": "execute_result"
    }
   ],
   "source": [
    "energy_land_data.isnull().sum()"
   ]
  },
  {
   "cell_type": "markdown",
   "id": "c9b6db41",
   "metadata": {
    "papermill": {
     "duration": 0.016196,
     "end_time": "2023-08-09T19:29:41.664933",
     "exception": false,
     "start_time": "2023-08-09T19:29:41.648737",
     "status": "completed"
    },
    "tags": []
   },
   "source": [
    "## Dropping null values"
   ]
  },
  {
   "cell_type": "code",
   "execution_count": 8,
   "id": "5bef588b",
   "metadata": {
    "execution": {
     "iopub.execute_input": "2023-08-09T19:29:41.700481Z",
     "iopub.status.busy": "2023-08-09T19:29:41.699548Z",
     "iopub.status.idle": "2023-08-09T19:29:41.708650Z",
     "shell.execute_reply": "2023-08-09T19:29:41.707581Z"
    },
    "papermill": {
     "duration": 0.029654,
     "end_time": "2023-08-09T19:29:41.711177",
     "exception": false,
     "start_time": "2023-08-09T19:29:41.681523",
     "status": "completed"
    },
    "tags": []
   },
   "outputs": [],
   "source": [
    "energy_land_data_use = energy_land_data.dropna(axis=0)"
   ]
  },
  {
   "cell_type": "code",
   "execution_count": 9,
   "id": "a0a7d57f",
   "metadata": {
    "execution": {
     "iopub.execute_input": "2023-08-09T19:29:41.747103Z",
     "iopub.status.busy": "2023-08-09T19:29:41.746232Z",
     "iopub.status.idle": "2023-08-09T19:29:41.759291Z",
     "shell.execute_reply": "2023-08-09T19:29:41.758205Z"
    },
    "papermill": {
     "duration": 0.033366,
     "end_time": "2023-08-09T19:29:41.761725",
     "exception": false,
     "start_time": "2023-08-09T19:29:41.728359",
     "status": "completed"
    },
    "tags": []
   },
   "outputs": [
    {
     "name": "stdout",
     "output_type": "stream",
     "text": [
      "<class 'pandas.core.frame.DataFrame'>\n",
      "Int64Index: 3648 entries, 0 to 3648\n",
      "Data columns (total 2 columns):\n",
      " #   Column          Non-Null Count  Dtype \n",
      "---  ------          --------------  ----- \n",
      " 0   Entity          3648 non-null   object\n",
      " 1   Land Area(Km2)  3648 non-null   object\n",
      "dtypes: object(2)\n",
      "memory usage: 85.5+ KB\n"
     ]
    }
   ],
   "source": [
    "energy_land_data_use.info()"
   ]
  },
  {
   "cell_type": "code",
   "execution_count": 10,
   "id": "81adaf39",
   "metadata": {
    "execution": {
     "iopub.execute_input": "2023-08-09T19:29:41.796382Z",
     "iopub.status.busy": "2023-08-09T19:29:41.795963Z",
     "iopub.status.idle": "2023-08-09T19:29:41.807306Z",
     "shell.execute_reply": "2023-08-09T19:29:41.806237Z"
    },
    "papermill": {
     "duration": 0.03164,
     "end_time": "2023-08-09T19:29:41.809746",
     "exception": false,
     "start_time": "2023-08-09T19:29:41.778106",
     "status": "completed"
    },
    "tags": []
   },
   "outputs": [
    {
     "data": {
      "text/plain": [
       "Entity            0\n",
       "Land Area(Km2)    0\n",
       "dtype: int64"
      ]
     },
     "execution_count": 10,
     "metadata": {},
     "output_type": "execute_result"
    }
   ],
   "source": [
    "energy_land_data_use.isnull().sum()"
   ]
  },
  {
   "cell_type": "code",
   "execution_count": 11,
   "id": "c27a0d11",
   "metadata": {
    "execution": {
     "iopub.execute_input": "2023-08-09T19:29:41.845251Z",
     "iopub.status.busy": "2023-08-09T19:29:41.844847Z",
     "iopub.status.idle": "2023-08-09T19:29:41.851155Z",
     "shell.execute_reply": "2023-08-09T19:29:41.850061Z"
    },
    "papermill": {
     "duration": 0.026597,
     "end_time": "2023-08-09T19:29:41.853477",
     "exception": false,
     "start_time": "2023-08-09T19:29:41.826880",
     "status": "completed"
    },
    "tags": []
   },
   "outputs": [
    {
     "data": {
      "text/plain": [
       "(3648, 2)"
      ]
     },
     "execution_count": 11,
     "metadata": {},
     "output_type": "execute_result"
    }
   ],
   "source": [
    "energy_land_data_use.shape"
   ]
  },
  {
   "cell_type": "markdown",
   "id": "ad537820",
   "metadata": {
    "papermill": {
     "duration": 0.01642,
     "end_time": "2023-08-09T19:29:41.886666",
     "exception": false,
     "start_time": "2023-08-09T19:29:41.870246",
     "status": "completed"
    },
    "tags": []
   },
   "source": [
    "## Getting the countries from DataFrame"
   ]
  },
  {
   "cell_type": "code",
   "execution_count": 12,
   "id": "ff0971c3",
   "metadata": {
    "execution": {
     "iopub.execute_input": "2023-08-09T19:29:41.921729Z",
     "iopub.status.busy": "2023-08-09T19:29:41.921319Z",
     "iopub.status.idle": "2023-08-09T19:29:41.931330Z",
     "shell.execute_reply": "2023-08-09T19:29:41.930223Z"
    },
    "papermill": {
     "duration": 0.030507,
     "end_time": "2023-08-09T19:29:41.933848",
     "exception": false,
     "start_time": "2023-08-09T19:29:41.903341",
     "status": "completed"
    },
    "tags": []
   },
   "outputs": [
    {
     "data": {
      "text/plain": [
       "array(['Afghanistan', 'Albania', 'Algeria', 'Angola',\n",
       "       'Antigua and Barbuda', 'Argentina', 'Armenia', 'Aruba',\n",
       "       'Australia', 'Austria', 'Azerbaijan', 'Bahamas', 'Bahrain',\n",
       "       'Bangladesh', 'Barbados', 'Belarus', 'Belgium', 'Belize', 'Benin',\n",
       "       'Bermuda', 'Bhutan', 'Bosnia and Herzegovina', 'Botswana',\n",
       "       'Brazil', 'Bulgaria', 'Burkina Faso', 'Burundi', 'Cambodia',\n",
       "       'Cameroon', 'Canada', 'Cayman Islands', 'Central African Republic',\n",
       "       'Chad', 'Chile', 'China', 'Colombia', 'Comoros', 'Congo',\n",
       "       'Costa Rica', 'Croatia', 'Cuba', 'Cyprus', 'Czechia', 'Denmark',\n",
       "       'Djibouti', 'Dominica', 'Dominican Republic', 'Ecuador', 'Egypt',\n",
       "       'El Salvador', 'Equatorial Guinea', 'Eritrea', 'Estonia',\n",
       "       'Eswatini', 'Ethiopia', 'Fiji', 'Finland', 'France', 'Gabon',\n",
       "       'Gambia', 'Georgia', 'Germany', 'Ghana', 'Greece', 'Grenada',\n",
       "       'Guatemala', 'Guinea', 'Guinea-Bissau', 'Guyana', 'Haiti',\n",
       "       'Honduras', 'Hungary', 'Iceland', 'India', 'Indonesia', 'Iraq',\n",
       "       'Ireland', 'Israel', 'Italy', 'Jamaica', 'Japan', 'Jordan',\n",
       "       'Kazakhstan', 'Kenya', 'Kiribati', 'Kuwait', 'Kyrgyzstan',\n",
       "       'Latvia', 'Lebanon', 'Lesotho', 'Liberia', 'Libya', 'Lithuania',\n",
       "       'Luxembourg', 'Madagascar', 'Malawi', 'Malaysia', 'Maldives',\n",
       "       'Mali', 'Malta', 'Mauritania', 'Mauritius', 'Mexico', 'Mongolia',\n",
       "       'Montenegro', 'Morocco', 'Mozambique', 'Myanmar', 'Namibia',\n",
       "       'Nauru', 'Nepal', 'Netherlands', 'New Caledonia', 'New Zealand',\n",
       "       'Nicaragua', 'Niger', 'Nigeria', 'North Macedonia', 'Norway',\n",
       "       'Oman', 'Pakistan', 'Panama', 'Papua New Guinea', 'Paraguay',\n",
       "       'Peru', 'Philippines', 'Poland', 'Portugal', 'Puerto Rico',\n",
       "       'Qatar', 'Romania', 'Rwanda', 'Saint Kitts and Nevis',\n",
       "       'Saint Lucia', 'Saint Vincent and the Grenadines', 'Samoa',\n",
       "       'Sao Tome and Principe', 'Saudi Arabia', 'Senegal', 'Serbia',\n",
       "       'Seychelles', 'Sierra Leone', 'Singapore', 'Slovakia', 'Slovenia',\n",
       "       'Solomon Islands', 'Somalia', 'South Africa', 'South Sudan',\n",
       "       'Spain', 'Sri Lanka', 'Sudan', 'Suriname', 'Sweden', 'Switzerland',\n",
       "       'Tajikistan', 'Thailand', 'Togo', 'Tonga', 'Trinidad and Tobago',\n",
       "       'Tunisia', 'Turkey', 'Turkmenistan', 'Tuvalu', 'Uganda', 'Ukraine',\n",
       "       'United Arab Emirates', 'United Kingdom', 'United States',\n",
       "       'Uruguay', 'Uzbekistan', 'Vanuatu', 'Yemen', 'Zambia', 'Zimbabwe'],\n",
       "      dtype=object)"
      ]
     },
     "execution_count": 12,
     "metadata": {},
     "output_type": "execute_result"
    }
   ],
   "source": [
    "# Unique values of countries so it can be set just once in a new DataFrame\n",
    "countries = energy_land_data_use['Entity'].unique()\n",
    "countries"
   ]
  },
  {
   "cell_type": "markdown",
   "id": "487d3ce0",
   "metadata": {
    "papermill": {
     "duration": 0.016672,
     "end_time": "2023-08-09T19:29:41.967710",
     "exception": false,
     "start_time": "2023-08-09T19:29:41.951038",
     "status": "completed"
    },
    "tags": []
   },
   "source": [
    "## Changing Land Area type\n",
    "As the land area is of the type of object, it's not possible to plot the graph in the right way, since it should be of int or float - for this case, int will work, so let's change them."
   ]
  },
  {
   "cell_type": "code",
   "execution_count": 13,
   "id": "98520301",
   "metadata": {
    "execution": {
     "iopub.execute_input": "2023-08-09T19:29:42.003598Z",
     "iopub.status.busy": "2023-08-09T19:29:42.003199Z",
     "iopub.status.idle": "2023-08-09T19:29:42.010127Z",
     "shell.execute_reply": "2023-08-09T19:29:42.009047Z"
    },
    "papermill": {
     "duration": 0.02794,
     "end_time": "2023-08-09T19:29:42.012604",
     "exception": false,
     "start_time": "2023-08-09T19:29:41.984664",
     "status": "completed"
    },
    "tags": []
   },
   "outputs": [],
   "source": [
    "# Gets every value of Land Area\n",
    "land = energy_land_data_use['Land Area(Km2)'].unique()\n",
    "\n",
    "# New list for land area as int type\n",
    "land_int = []\n",
    "\n",
    "# Iterates through evey value in land, change the \",\" for nothing and append it to the new list\n",
    "# Basically, just put all the numbers from each land area together and append it\n",
    "for num in land:\n",
    "    land_int.append(num.replace(',', ''))\n",
    "\n",
    "# Iterates through every value in land_int list and change it to int.\n",
    "for num in land_int:\n",
    "    int(num)"
   ]
  },
  {
   "cell_type": "markdown",
   "id": "0bbff257",
   "metadata": {
    "papermill": {
     "duration": 0.017661,
     "end_time": "2023-08-09T19:29:42.047303",
     "exception": false,
     "start_time": "2023-08-09T19:29:42.029642",
     "status": "completed"
    },
    "tags": []
   },
   "source": [
    "## Putting the Countries and Land Area back to a DataFrame"
   ]
  },
  {
   "cell_type": "code",
   "execution_count": 14,
   "id": "09388b9c",
   "metadata": {
    "execution": {
     "iopub.execute_input": "2023-08-09T19:29:42.083131Z",
     "iopub.status.busy": "2023-08-09T19:29:42.082726Z",
     "iopub.status.idle": "2023-08-09T19:29:42.103274Z",
     "shell.execute_reply": "2023-08-09T19:29:42.102176Z"
    },
    "papermill": {
     "duration": 0.041349,
     "end_time": "2023-08-09T19:29:42.105630",
     "exception": false,
     "start_time": "2023-08-09T19:29:42.064281",
     "status": "completed"
    },
    "tags": []
   },
   "outputs": [
    {
     "data": {
      "text/html": [
       "<div>\n",
       "<style scoped>\n",
       "    .dataframe tbody tr th:only-of-type {\n",
       "        vertical-align: middle;\n",
       "    }\n",
       "\n",
       "    .dataframe tbody tr th {\n",
       "        vertical-align: top;\n",
       "    }\n",
       "\n",
       "    .dataframe thead th {\n",
       "        text-align: right;\n",
       "    }\n",
       "</style>\n",
       "<table border=\"1\" class=\"dataframe\">\n",
       "  <thead>\n",
       "    <tr style=\"text-align: right;\">\n",
       "      <th></th>\n",
       "      <th>Country</th>\n",
       "      <th>Land</th>\n",
       "    </tr>\n",
       "  </thead>\n",
       "  <tbody>\n",
       "    <tr>\n",
       "      <th>0</th>\n",
       "      <td>Afghanistan</td>\n",
       "      <td>652230</td>\n",
       "    </tr>\n",
       "    <tr>\n",
       "      <th>1</th>\n",
       "      <td>Albania</td>\n",
       "      <td>28748</td>\n",
       "    </tr>\n",
       "    <tr>\n",
       "      <th>2</th>\n",
       "      <td>Algeria</td>\n",
       "      <td>2381741</td>\n",
       "    </tr>\n",
       "    <tr>\n",
       "      <th>3</th>\n",
       "      <td>Angola</td>\n",
       "      <td>1246700</td>\n",
       "    </tr>\n",
       "    <tr>\n",
       "      <th>4</th>\n",
       "      <td>Antigua and Barbuda</td>\n",
       "      <td>443</td>\n",
       "    </tr>\n",
       "  </tbody>\n",
       "</table>\n",
       "</div>"
      ],
      "text/plain": [
       "               Country     Land\n",
       "0          Afghanistan   652230\n",
       "1              Albania    28748\n",
       "2              Algeria  2381741\n",
       "3               Angola  1246700\n",
       "4  Antigua and Barbuda      443"
      ]
     },
     "execution_count": 14,
     "metadata": {},
     "output_type": "execute_result"
    }
   ],
   "source": [
    "# Creates new DataFrame with Country and Land\n",
    "energy_land_data_use_df = pd.DataFrame([countries, pd.to_numeric(land_int)], index=['Country', 'Land'])\n",
    "\n",
    "# Tranposes the DataFrame, i.e rows become columns and columns become rows\n",
    "energy_land_data_use_df = energy_land_data_use_df.T\n",
    "\n",
    "energy_land_data_use_df.head()"
   ]
  },
  {
   "cell_type": "code",
   "execution_count": 15,
   "id": "c6bb3cfb",
   "metadata": {
    "execution": {
     "iopub.execute_input": "2023-08-09T19:29:42.142561Z",
     "iopub.status.busy": "2023-08-09T19:29:42.142141Z",
     "iopub.status.idle": "2023-08-09T19:29:42.149003Z",
     "shell.execute_reply": "2023-08-09T19:29:42.147925Z"
    },
    "papermill": {
     "duration": 0.028449,
     "end_time": "2023-08-09T19:29:42.151296",
     "exception": false,
     "start_time": "2023-08-09T19:29:42.122847",
     "status": "completed"
    },
    "tags": []
   },
   "outputs": [
    {
     "data": {
      "text/plain": [
       "(175, 2)"
      ]
     },
     "execution_count": 15,
     "metadata": {},
     "output_type": "execute_result"
    }
   ],
   "source": [
    "energy_land_data_use_df.shape"
   ]
  },
  {
   "cell_type": "code",
   "execution_count": 16,
   "id": "884546a4",
   "metadata": {
    "execution": {
     "iopub.execute_input": "2023-08-09T19:29:42.187940Z",
     "iopub.status.busy": "2023-08-09T19:29:42.187561Z",
     "iopub.status.idle": "2023-08-09T19:29:42.198778Z",
     "shell.execute_reply": "2023-08-09T19:29:42.197505Z"
    },
    "papermill": {
     "duration": 0.033503,
     "end_time": "2023-08-09T19:29:42.202053",
     "exception": false,
     "start_time": "2023-08-09T19:29:42.168550",
     "status": "completed"
    },
    "tags": []
   },
   "outputs": [
    {
     "name": "stdout",
     "output_type": "stream",
     "text": [
      "<class 'pandas.core.frame.DataFrame'>\n",
      "RangeIndex: 175 entries, 0 to 174\n",
      "Data columns (total 2 columns):\n",
      " #   Column   Non-Null Count  Dtype \n",
      "---  ------   --------------  ----- \n",
      " 0   Country  175 non-null    object\n",
      " 1   Land     175 non-null    object\n",
      "dtypes: object(2)\n",
      "memory usage: 2.9+ KB\n"
     ]
    }
   ],
   "source": [
    "energy_land_data_use_df.info()\n"
   ]
  },
  {
   "cell_type": "markdown",
   "id": "46558252",
   "metadata": {
    "papermill": {
     "duration": 0.017734,
     "end_time": "2023-08-09T19:29:42.237253",
     "exception": false,
     "start_time": "2023-08-09T19:29:42.219519",
     "status": "completed"
    },
    "tags": []
   },
   "source": [
    "## Plotting the Land Area graph"
   ]
  },
  {
   "cell_type": "code",
   "execution_count": 17,
   "id": "9e36f1fd",
   "metadata": {
    "execution": {
     "iopub.execute_input": "2023-08-09T19:29:42.274072Z",
     "iopub.status.busy": "2023-08-09T19:29:42.273681Z",
     "iopub.status.idle": "2023-08-09T19:29:43.912373Z",
     "shell.execute_reply": "2023-08-09T19:29:43.911208Z"
    },
    "papermill": {
     "duration": 1.660453,
     "end_time": "2023-08-09T19:29:43.915116",
     "exception": false,
     "start_time": "2023-08-09T19:29:42.254663",
     "status": "completed"
    },
    "tags": []
   },
   "outputs": [
    {
     "data": {
      "text/html": [
       "        <script type=\"text/javascript\">\n",
       "        window.PlotlyConfig = {MathJaxConfig: 'local'};\n",
       "        if (window.MathJax && window.MathJax.Hub && window.MathJax.Hub.Config) {window.MathJax.Hub.Config({SVG: {font: \"STIX-Web\"}});}\n",
       "        if (typeof require !== 'undefined') {\n",
       "        require.undef(\"plotly\");\n",
       "        requirejs.config({\n",
       "            paths: {\n",
       "                'plotly': ['https://cdn.plot.ly/plotly-2.24.1.min']\n",
       "            }\n",
       "        });\n",
       "        require(['plotly'], function(Plotly) {\n",
       "            window._Plotly = Plotly;\n",
       "        });\n",
       "        }\n",
       "        </script>\n",
       "        "
      ]
     },
     "metadata": {},
     "output_type": "display_data"
    },
    {
     "data": {
      "text/html": [
       "<div>                            <div id=\"8aefb7e6-29d0-4fb1-9cc5-b638b3af7919\" class=\"plotly-graph-div\" style=\"height:525px; width:100%;\"></div>            <script type=\"text/javascript\">                require([\"plotly\"], function(Plotly) {                    window.PLOTLYENV=window.PLOTLYENV || {};                                    if (document.getElementById(\"8aefb7e6-29d0-4fb1-9cc5-b638b3af7919\")) {                    Plotly.newPlot(                        \"8aefb7e6-29d0-4fb1-9cc5-b638b3af7919\",                        [{\"alignmentgroup\":\"True\",\"hovertemplate\":\"Country=%{x}\\u003cbr\\u003eLand Area - km2=%{y}\\u003cextra\\u003e\\u003c\\u002fextra\\u003e\",\"legendgroup\":\"\",\"marker\":{\"color\":\"#636efa\",\"pattern\":{\"shape\":\"\"}},\"name\":\"\",\"offsetgroup\":\"\",\"orientation\":\"v\",\"showlegend\":false,\"textposition\":\"auto\",\"x\":[\"Afghanistan\",\"Albania\",\"Algeria\",\"Angola\",\"Antigua and Barbuda\",\"Argentina\",\"Armenia\",\"Aruba\",\"Australia\",\"Austria\",\"Azerbaijan\",\"Bahamas\",\"Bahrain\",\"Bangladesh\",\"Barbados\",\"Belarus\",\"Belgium\",\"Belize\",\"Benin\",\"Bermuda\",\"Bhutan\",\"Bosnia and Herzegovina\",\"Botswana\",\"Brazil\",\"Bulgaria\",\"Burkina Faso\",\"Burundi\",\"Cambodia\",\"Cameroon\",\"Canada\",\"Cayman Islands\",\"Central African Republic\",\"Chad\",\"Chile\",\"China\",\"Colombia\",\"Comoros\",\"Congo\",\"Costa Rica\",\"Croatia\",\"Cuba\",\"Cyprus\",\"Czechia\",\"Denmark\",\"Djibouti\",\"Dominica\",\"Dominican Republic\",\"Ecuador\",\"Egypt\",\"El Salvador\",\"Equatorial Guinea\",\"Eritrea\",\"Estonia\",\"Eswatini\",\"Ethiopia\",\"Fiji\",\"Finland\",\"France\",\"Gabon\",\"Gambia\",\"Georgia\",\"Germany\",\"Ghana\",\"Greece\",\"Grenada\",\"Guatemala\",\"Guinea\",\"Guinea-Bissau\",\"Guyana\",\"Haiti\",\"Honduras\",\"Hungary\",\"Iceland\",\"India\",\"Indonesia\",\"Iraq\",\"Ireland\",\"Israel\",\"Italy\",\"Jamaica\",\"Japan\",\"Jordan\",\"Kazakhstan\",\"Kenya\",\"Kiribati\",\"Kuwait\",\"Kyrgyzstan\",\"Latvia\",\"Lebanon\",\"Lesotho\",\"Liberia\",\"Libya\",\"Lithuania\",\"Luxembourg\",\"Madagascar\",\"Malawi\",\"Malaysia\",\"Maldives\",\"Mali\",\"Malta\",\"Mauritania\",\"Mauritius\",\"Mexico\",\"Mongolia\",\"Montenegro\",\"Morocco\",\"Mozambique\",\"Myanmar\",\"Namibia\",\"Nauru\",\"Nepal\",\"Netherlands\",\"New Caledonia\",\"New Zealand\",\"Nicaragua\",\"Niger\",\"Nigeria\",\"North Macedonia\",\"Norway\",\"Oman\",\"Pakistan\",\"Panama\",\"Papua New Guinea\",\"Paraguay\",\"Peru\",\"Philippines\",\"Poland\",\"Portugal\",\"Puerto Rico\",\"Qatar\",\"Romania\",\"Rwanda\",\"Saint Kitts and Nevis\",\"Saint Lucia\",\"Saint Vincent and the Grenadines\",\"Samoa\",\"Sao Tome and Principe\",\"Saudi Arabia\",\"Senegal\",\"Serbia\",\"Seychelles\",\"Sierra Leone\",\"Singapore\",\"Slovakia\",\"Slovenia\",\"Solomon Islands\",\"Somalia\",\"South Africa\",\"South Sudan\",\"Spain\",\"Sri Lanka\",\"Sudan\",\"Suriname\",\"Sweden\",\"Switzerland\",\"Tajikistan\",\"Thailand\",\"Togo\",\"Tonga\",\"Trinidad and Tobago\",\"Tunisia\",\"Turkey\",\"Turkmenistan\",\"Tuvalu\",\"Uganda\",\"Ukraine\",\"United Arab Emirates\",\"United Kingdom\",\"United States\",\"Uruguay\",\"Uzbekistan\",\"Vanuatu\",\"Yemen\",\"Zambia\",\"Zimbabwe\"],\"xaxis\":\"x\",\"y\":[652230,28748,2381741,1246700,443,2780400,29743,179,7741220,83871,86600,13878,765,148460,430,207600,30528,22966,112622,54,38394,51197,581730,8515770,110879,274200,27830,181035,475440,9984670,264,622984,1284000,756096,9596960,1138910,2235,2345409,51100,56594,110860,9251,78871,43094,23200,751,48670,283561,1001450,21041,28051,117600,45228,17364,1104300,18274,338145,643801,267667,11300,69700,357022,238533,131957,349,108889,245857,36125,214969,27750,112090,93028,103000,3287263,1904569,438317,84421,20770,301340,10991,377944,89342,2724900,580367,811,17818,199951,64589,10400,30355,111369,1759540,65300,2586,587041,118484,329847,298,1240192,316,1030700,2040,1964375,1564116,13812,446550,799380,676578,824292,21,147181,41543,19060,268838,130370,1267000,923768,25713,323802,309500,796095,75420,462840,406752,1285216,300000,312685,92212,9104,11586,238391,26338,261,616,389,2831,836,2149690,196722,77474,455,71740,716,49035,20273,28896,637657,1219090,644329,505370,65610,1861484,163820,450295,41277,144100,513120,56785,747,5128,163610,783562,488100,26,241038,603550,83600,243610,9833517,176215,447400,12189,527968,752618,390757],\"yaxis\":\"y\",\"type\":\"bar\"}],                        {\"template\":{\"data\":{\"histogram2dcontour\":[{\"type\":\"histogram2dcontour\",\"colorbar\":{\"outlinewidth\":0,\"ticks\":\"\"},\"colorscale\":[[0.0,\"#0d0887\"],[0.1111111111111111,\"#46039f\"],[0.2222222222222222,\"#7201a8\"],[0.3333333333333333,\"#9c179e\"],[0.4444444444444444,\"#bd3786\"],[0.5555555555555556,\"#d8576b\"],[0.6666666666666666,\"#ed7953\"],[0.7777777777777778,\"#fb9f3a\"],[0.8888888888888888,\"#fdca26\"],[1.0,\"#f0f921\"]]}],\"choropleth\":[{\"type\":\"choropleth\",\"colorbar\":{\"outlinewidth\":0,\"ticks\":\"\"}}],\"histogram2d\":[{\"type\":\"histogram2d\",\"colorbar\":{\"outlinewidth\":0,\"ticks\":\"\"},\"colorscale\":[[0.0,\"#0d0887\"],[0.1111111111111111,\"#46039f\"],[0.2222222222222222,\"#7201a8\"],[0.3333333333333333,\"#9c179e\"],[0.4444444444444444,\"#bd3786\"],[0.5555555555555556,\"#d8576b\"],[0.6666666666666666,\"#ed7953\"],[0.7777777777777778,\"#fb9f3a\"],[0.8888888888888888,\"#fdca26\"],[1.0,\"#f0f921\"]]}],\"heatmap\":[{\"type\":\"heatmap\",\"colorbar\":{\"outlinewidth\":0,\"ticks\":\"\"},\"colorscale\":[[0.0,\"#0d0887\"],[0.1111111111111111,\"#46039f\"],[0.2222222222222222,\"#7201a8\"],[0.3333333333333333,\"#9c179e\"],[0.4444444444444444,\"#bd3786\"],[0.5555555555555556,\"#d8576b\"],[0.6666666666666666,\"#ed7953\"],[0.7777777777777778,\"#fb9f3a\"],[0.8888888888888888,\"#fdca26\"],[1.0,\"#f0f921\"]]}],\"heatmapgl\":[{\"type\":\"heatmapgl\",\"colorbar\":{\"outlinewidth\":0,\"ticks\":\"\"},\"colorscale\":[[0.0,\"#0d0887\"],[0.1111111111111111,\"#46039f\"],[0.2222222222222222,\"#7201a8\"],[0.3333333333333333,\"#9c179e\"],[0.4444444444444444,\"#bd3786\"],[0.5555555555555556,\"#d8576b\"],[0.6666666666666666,\"#ed7953\"],[0.7777777777777778,\"#fb9f3a\"],[0.8888888888888888,\"#fdca26\"],[1.0,\"#f0f921\"]]}],\"contourcarpet\":[{\"type\":\"contourcarpet\",\"colorbar\":{\"outlinewidth\":0,\"ticks\":\"\"}}],\"contour\":[{\"type\":\"contour\",\"colorbar\":{\"outlinewidth\":0,\"ticks\":\"\"},\"colorscale\":[[0.0,\"#0d0887\"],[0.1111111111111111,\"#46039f\"],[0.2222222222222222,\"#7201a8\"],[0.3333333333333333,\"#9c179e\"],[0.4444444444444444,\"#bd3786\"],[0.5555555555555556,\"#d8576b\"],[0.6666666666666666,\"#ed7953\"],[0.7777777777777778,\"#fb9f3a\"],[0.8888888888888888,\"#fdca26\"],[1.0,\"#f0f921\"]]}],\"surface\":[{\"type\":\"surface\",\"colorbar\":{\"outlinewidth\":0,\"ticks\":\"\"},\"colorscale\":[[0.0,\"#0d0887\"],[0.1111111111111111,\"#46039f\"],[0.2222222222222222,\"#7201a8\"],[0.3333333333333333,\"#9c179e\"],[0.4444444444444444,\"#bd3786\"],[0.5555555555555556,\"#d8576b\"],[0.6666666666666666,\"#ed7953\"],[0.7777777777777778,\"#fb9f3a\"],[0.8888888888888888,\"#fdca26\"],[1.0,\"#f0f921\"]]}],\"mesh3d\":[{\"type\":\"mesh3d\",\"colorbar\":{\"outlinewidth\":0,\"ticks\":\"\"}}],\"scatter\":[{\"fillpattern\":{\"fillmode\":\"overlay\",\"size\":10,\"solidity\":0.2},\"type\":\"scatter\"}],\"parcoords\":[{\"type\":\"parcoords\",\"line\":{\"colorbar\":{\"outlinewidth\":0,\"ticks\":\"\"}}}],\"scatterpolargl\":[{\"type\":\"scatterpolargl\",\"marker\":{\"colorbar\":{\"outlinewidth\":0,\"ticks\":\"\"}}}],\"bar\":[{\"error_x\":{\"color\":\"#2a3f5f\"},\"error_y\":{\"color\":\"#2a3f5f\"},\"marker\":{\"line\":{\"color\":\"#E5ECF6\",\"width\":0.5},\"pattern\":{\"fillmode\":\"overlay\",\"size\":10,\"solidity\":0.2}},\"type\":\"bar\"}],\"scattergeo\":[{\"type\":\"scattergeo\",\"marker\":{\"colorbar\":{\"outlinewidth\":0,\"ticks\":\"\"}}}],\"scatterpolar\":[{\"type\":\"scatterpolar\",\"marker\":{\"colorbar\":{\"outlinewidth\":0,\"ticks\":\"\"}}}],\"histogram\":[{\"marker\":{\"pattern\":{\"fillmode\":\"overlay\",\"size\":10,\"solidity\":0.2}},\"type\":\"histogram\"}],\"scattergl\":[{\"type\":\"scattergl\",\"marker\":{\"colorbar\":{\"outlinewidth\":0,\"ticks\":\"\"}}}],\"scatter3d\":[{\"type\":\"scatter3d\",\"line\":{\"colorbar\":{\"outlinewidth\":0,\"ticks\":\"\"}},\"marker\":{\"colorbar\":{\"outlinewidth\":0,\"ticks\":\"\"}}}],\"scattermapbox\":[{\"type\":\"scattermapbox\",\"marker\":{\"colorbar\":{\"outlinewidth\":0,\"ticks\":\"\"}}}],\"scatterternary\":[{\"type\":\"scatterternary\",\"marker\":{\"colorbar\":{\"outlinewidth\":0,\"ticks\":\"\"}}}],\"scattercarpet\":[{\"type\":\"scattercarpet\",\"marker\":{\"colorbar\":{\"outlinewidth\":0,\"ticks\":\"\"}}}],\"carpet\":[{\"aaxis\":{\"endlinecolor\":\"#2a3f5f\",\"gridcolor\":\"white\",\"linecolor\":\"white\",\"minorgridcolor\":\"white\",\"startlinecolor\":\"#2a3f5f\"},\"baxis\":{\"endlinecolor\":\"#2a3f5f\",\"gridcolor\":\"white\",\"linecolor\":\"white\",\"minorgridcolor\":\"white\",\"startlinecolor\":\"#2a3f5f\"},\"type\":\"carpet\"}],\"table\":[{\"cells\":{\"fill\":{\"color\":\"#EBF0F8\"},\"line\":{\"color\":\"white\"}},\"header\":{\"fill\":{\"color\":\"#C8D4E3\"},\"line\":{\"color\":\"white\"}},\"type\":\"table\"}],\"barpolar\":[{\"marker\":{\"line\":{\"color\":\"#E5ECF6\",\"width\":0.5},\"pattern\":{\"fillmode\":\"overlay\",\"size\":10,\"solidity\":0.2}},\"type\":\"barpolar\"}],\"pie\":[{\"automargin\":true,\"type\":\"pie\"}]},\"layout\":{\"autotypenumbers\":\"strict\",\"colorway\":[\"#636efa\",\"#EF553B\",\"#00cc96\",\"#ab63fa\",\"#FFA15A\",\"#19d3f3\",\"#FF6692\",\"#B6E880\",\"#FF97FF\",\"#FECB52\"],\"font\":{\"color\":\"#2a3f5f\"},\"hovermode\":\"closest\",\"hoverlabel\":{\"align\":\"left\"},\"paper_bgcolor\":\"white\",\"plot_bgcolor\":\"#E5ECF6\",\"polar\":{\"bgcolor\":\"#E5ECF6\",\"angularaxis\":{\"gridcolor\":\"white\",\"linecolor\":\"white\",\"ticks\":\"\"},\"radialaxis\":{\"gridcolor\":\"white\",\"linecolor\":\"white\",\"ticks\":\"\"}},\"ternary\":{\"bgcolor\":\"#E5ECF6\",\"aaxis\":{\"gridcolor\":\"white\",\"linecolor\":\"white\",\"ticks\":\"\"},\"baxis\":{\"gridcolor\":\"white\",\"linecolor\":\"white\",\"ticks\":\"\"},\"caxis\":{\"gridcolor\":\"white\",\"linecolor\":\"white\",\"ticks\":\"\"}},\"coloraxis\":{\"colorbar\":{\"outlinewidth\":0,\"ticks\":\"\"}},\"colorscale\":{\"sequential\":[[0.0,\"#0d0887\"],[0.1111111111111111,\"#46039f\"],[0.2222222222222222,\"#7201a8\"],[0.3333333333333333,\"#9c179e\"],[0.4444444444444444,\"#bd3786\"],[0.5555555555555556,\"#d8576b\"],[0.6666666666666666,\"#ed7953\"],[0.7777777777777778,\"#fb9f3a\"],[0.8888888888888888,\"#fdca26\"],[1.0,\"#f0f921\"]],\"sequentialminus\":[[0.0,\"#0d0887\"],[0.1111111111111111,\"#46039f\"],[0.2222222222222222,\"#7201a8\"],[0.3333333333333333,\"#9c179e\"],[0.4444444444444444,\"#bd3786\"],[0.5555555555555556,\"#d8576b\"],[0.6666666666666666,\"#ed7953\"],[0.7777777777777778,\"#fb9f3a\"],[0.8888888888888888,\"#fdca26\"],[1.0,\"#f0f921\"]],\"diverging\":[[0,\"#8e0152\"],[0.1,\"#c51b7d\"],[0.2,\"#de77ae\"],[0.3,\"#f1b6da\"],[0.4,\"#fde0ef\"],[0.5,\"#f7f7f7\"],[0.6,\"#e6f5d0\"],[0.7,\"#b8e186\"],[0.8,\"#7fbc41\"],[0.9,\"#4d9221\"],[1,\"#276419\"]]},\"xaxis\":{\"gridcolor\":\"white\",\"linecolor\":\"white\",\"ticks\":\"\",\"title\":{\"standoff\":15},\"zerolinecolor\":\"white\",\"automargin\":true,\"zerolinewidth\":2},\"yaxis\":{\"gridcolor\":\"white\",\"linecolor\":\"white\",\"ticks\":\"\",\"title\":{\"standoff\":15},\"zerolinecolor\":\"white\",\"automargin\":true,\"zerolinewidth\":2},\"scene\":{\"xaxis\":{\"backgroundcolor\":\"#E5ECF6\",\"gridcolor\":\"white\",\"linecolor\":\"white\",\"showbackground\":true,\"ticks\":\"\",\"zerolinecolor\":\"white\",\"gridwidth\":2},\"yaxis\":{\"backgroundcolor\":\"#E5ECF6\",\"gridcolor\":\"white\",\"linecolor\":\"white\",\"showbackground\":true,\"ticks\":\"\",\"zerolinecolor\":\"white\",\"gridwidth\":2},\"zaxis\":{\"backgroundcolor\":\"#E5ECF6\",\"gridcolor\":\"white\",\"linecolor\":\"white\",\"showbackground\":true,\"ticks\":\"\",\"zerolinecolor\":\"white\",\"gridwidth\":2}},\"shapedefaults\":{\"line\":{\"color\":\"#2a3f5f\"}},\"annotationdefaults\":{\"arrowcolor\":\"#2a3f5f\",\"arrowhead\":0,\"arrowwidth\":1},\"geo\":{\"bgcolor\":\"white\",\"landcolor\":\"#E5ECF6\",\"subunitcolor\":\"white\",\"showland\":true,\"showlakes\":true,\"lakecolor\":\"white\"},\"title\":{\"x\":0.05},\"mapbox\":{\"style\":\"light\"}}},\"xaxis\":{\"anchor\":\"y\",\"domain\":[0.0,1.0],\"title\":{\"text\":\"Country\"}},\"yaxis\":{\"anchor\":\"x\",\"domain\":[0.0,1.0],\"title\":{\"text\":\"Land Area - km2\"}},\"legend\":{\"tracegroupgap\":0},\"margin\":{\"t\":60},\"barmode\":\"relative\",\"title\":{\"text\":\"Countries Land Area - in km2\",\"x\":0.5}},                        {\"responsive\": true}                    ).then(function(){\n",
       "                            \n",
       "var gd = document.getElementById('8aefb7e6-29d0-4fb1-9cc5-b638b3af7919');\n",
       "var x = new MutationObserver(function (mutations, observer) {{\n",
       "        var display = window.getComputedStyle(gd).display;\n",
       "        if (!display || display === 'none') {{\n",
       "            console.log([gd, 'removed!']);\n",
       "            Plotly.purge(gd);\n",
       "            observer.disconnect();\n",
       "        }}\n",
       "}});\n",
       "\n",
       "// Listen for the removal of the full notebook cells\n",
       "var notebookContainer = gd.closest('#notebook-container');\n",
       "if (notebookContainer) {{\n",
       "    x.observe(notebookContainer, {childList: true});\n",
       "}}\n",
       "\n",
       "// Listen for the clearing of the current output cell\n",
       "var outputEl = gd.closest('.output');\n",
       "if (outputEl) {{\n",
       "    x.observe(outputEl, {childList: true});\n",
       "}}\n",
       "\n",
       "                        })                };                });            </script>        </div>"
      ]
     },
     "metadata": {},
     "output_type": "display_data"
    }
   ],
   "source": [
    "# Creates a graph called fig\n",
    "fig = px.bar(energy_land_data_use_df, x='Country', y='Land', labels={'Land': 'Land Area - km2', 'Entity': 'Country'})\n",
    "\n",
    "# Updates graph layout/styles\n",
    "fig.update_layout(title={\n",
    "    'text': 'Countries Land Area - in km2',\n",
    "    'x': 0.5,\n",
    "})\n",
    "\n",
    "# Shows the graph\n",
    "fig.show()"
   ]
  },
  {
   "cell_type": "markdown",
   "id": "af4f8d34",
   "metadata": {
    "papermill": {
     "duration": 0.01786,
     "end_time": "2023-08-09T19:29:43.951607",
     "exception": false,
     "start_time": "2023-08-09T19:29:43.933747",
     "status": "completed"
    },
    "tags": []
   },
   "source": [
    "* It's important to say that Land Area was registered in the dataset as km2"
   ]
  },
  {
   "cell_type": "markdown",
   "id": "b6366646",
   "metadata": {
    "papermill": {
     "duration": 0.0184,
     "end_time": "2023-08-09T19:29:43.988075",
     "exception": false,
     "start_time": "2023-08-09T19:29:43.969675",
     "status": "completed"
    },
    "tags": []
   },
   "source": [
    "With the graph on screen, it's possible to say that the 3 biggest countries in the world are:\n",
    "1. Canada\n",
    "2. United States\n",
    "3. China\n",
    "\n",
    "However, if we make just a little research, we'll see that Russia is the top 1 biggest country in the world. But, as it's not in the dataset, we won't be able to use it. So let's keep going with this 3."
   ]
  },
  {
   "cell_type": "markdown",
   "id": "e9096d7f",
   "metadata": {
    "papermill": {
     "duration": 0.018239,
     "end_time": "2023-08-09T19:29:44.024868",
     "exception": false,
     "start_time": "2023-08-09T19:29:44.006629",
     "status": "completed"
    },
    "tags": []
   },
   "source": [
    "## Getting the CO2 emission values from the 3 biggest countries"
   ]
  },
  {
   "cell_type": "code",
   "execution_count": 18,
   "id": "07871271",
   "metadata": {
    "execution": {
     "iopub.execute_input": "2023-08-09T19:29:44.065986Z",
     "iopub.status.busy": "2023-08-09T19:29:44.065321Z",
     "iopub.status.idle": "2023-08-09T19:29:44.080209Z",
     "shell.execute_reply": "2023-08-09T19:29:44.078692Z"
    },
    "papermill": {
     "duration": 0.037118,
     "end_time": "2023-08-09T19:29:44.082766",
     "exception": false,
     "start_time": "2023-08-09T19:29:44.045648",
     "status": "completed"
    },
    "tags": []
   },
   "outputs": [
    {
     "data": {
      "text/plain": [
       "Entity      0\n",
       "Year        0\n",
       "co2       428\n",
       "dtype: int64"
      ]
     },
     "execution_count": 18,
     "metadata": {},
     "output_type": "execute_result"
    }
   ],
   "source": [
    "# Gets the useful columns from the original dataset and renames CO2 emission column it to make it easier to access\n",
    "energy_co2_data = energy_data[['Entity', 'Year', 'Value_co2_emissions_kt_by_country']].rename(columns={'Value_co2_emissions_kt_by_country': 'co2'})\n",
    "\n",
    "energy_co2_data.isnull().sum()"
   ]
  },
  {
   "cell_type": "code",
   "execution_count": 19,
   "id": "11bc309e",
   "metadata": {
    "execution": {
     "iopub.execute_input": "2023-08-09T19:29:44.122102Z",
     "iopub.status.busy": "2023-08-09T19:29:44.121374Z",
     "iopub.status.idle": "2023-08-09T19:29:44.134413Z",
     "shell.execute_reply": "2023-08-09T19:29:44.133110Z"
    },
    "papermill": {
     "duration": 0.036177,
     "end_time": "2023-08-09T19:29:44.137655",
     "exception": false,
     "start_time": "2023-08-09T19:29:44.101478",
     "status": "completed"
    },
    "tags": []
   },
   "outputs": [
    {
     "name": "stdout",
     "output_type": "stream",
     "text": [
      "<class 'pandas.core.frame.DataFrame'>\n",
      "RangeIndex: 3649 entries, 0 to 3648\n",
      "Data columns (total 3 columns):\n",
      " #   Column  Non-Null Count  Dtype  \n",
      "---  ------  --------------  -----  \n",
      " 0   Entity  3649 non-null   object \n",
      " 1   Year    3649 non-null   int64  \n",
      " 2   co2     3221 non-null   float64\n",
      "dtypes: float64(1), int64(1), object(1)\n",
      "memory usage: 85.6+ KB\n"
     ]
    }
   ],
   "source": [
    "energy_co2_data.info()"
   ]
  },
  {
   "cell_type": "markdown",
   "id": "35974e81",
   "metadata": {
    "papermill": {
     "duration": 0.018026,
     "end_time": "2023-08-09T19:29:44.178592",
     "exception": false,
     "start_time": "2023-08-09T19:29:44.160566",
     "status": "completed"
    },
    "tags": []
   },
   "source": [
    "### Dropping missing values"
   ]
  },
  {
   "cell_type": "code",
   "execution_count": 20,
   "id": "609affb5",
   "metadata": {
    "execution": {
     "iopub.execute_input": "2023-08-09T19:29:44.217949Z",
     "iopub.status.busy": "2023-08-09T19:29:44.216957Z",
     "iopub.status.idle": "2023-08-09T19:29:44.224097Z",
     "shell.execute_reply": "2023-08-09T19:29:44.223316Z"
    },
    "papermill": {
     "duration": 0.028921,
     "end_time": "2023-08-09T19:29:44.226278",
     "exception": false,
     "start_time": "2023-08-09T19:29:44.197357",
     "status": "completed"
    },
    "tags": []
   },
   "outputs": [],
   "source": [
    "energy_co2_data = energy_co2_data.dropna(axis=0)"
   ]
  },
  {
   "cell_type": "markdown",
   "id": "0ca4407e",
   "metadata": {
    "papermill": {
     "duration": 0.017894,
     "end_time": "2023-08-09T19:29:44.262808",
     "exception": false,
     "start_time": "2023-08-09T19:29:44.244914",
     "status": "completed"
    },
    "tags": []
   },
   "source": [
    "### Separating the countries into differents DataFrames so we can plot each graph"
   ]
  },
  {
   "cell_type": "code",
   "execution_count": 21,
   "id": "8683bf2f",
   "metadata": {
    "execution": {
     "iopub.execute_input": "2023-08-09T19:29:44.301271Z",
     "iopub.status.busy": "2023-08-09T19:29:44.300514Z",
     "iopub.status.idle": "2023-08-09T19:29:44.310916Z",
     "shell.execute_reply": "2023-08-09T19:29:44.310121Z"
    },
    "papermill": {
     "duration": 0.03211,
     "end_time": "2023-08-09T19:29:44.313058",
     "exception": false,
     "start_time": "2023-08-09T19:29:44.280948",
     "status": "completed"
    },
    "tags": []
   },
   "outputs": [],
   "source": [
    "# Canada DataFrame with dropped missing values\n",
    "energy_co2_data_canada = energy_co2_data[(energy_co2_data['Entity'] == 'Canada')].dropna()\n",
    "\n",
    "# United States DataFrame with dropped missing values\n",
    "energy_co2_data_united_states = energy_co2_data[(energy_co2_data['Entity'] == 'United States')].dropna()\n",
    "\n",
    "# China DataFrame with dropped missing values\n",
    "energy_co2_data_china = energy_co2_data[(energy_co2_data['Entity'] == 'China')].dropna()"
   ]
  },
  {
   "cell_type": "markdown",
   "id": "f72f1642",
   "metadata": {
    "papermill": {
     "duration": 0.017914,
     "end_time": "2023-08-09T19:29:44.349226",
     "exception": false,
     "start_time": "2023-08-09T19:29:44.331312",
     "status": "completed"
    },
    "tags": []
   },
   "source": [
    "## Plotting the CO2 emission values from the 3 biggest countries graphs"
   ]
  },
  {
   "cell_type": "code",
   "execution_count": 22,
   "id": "6fcad851",
   "metadata": {
    "execution": {
     "iopub.execute_input": "2023-08-09T19:29:44.388481Z",
     "iopub.status.busy": "2023-08-09T19:29:44.387639Z",
     "iopub.status.idle": "2023-08-09T19:29:44.449822Z",
     "shell.execute_reply": "2023-08-09T19:29:44.449041Z"
    },
    "papermill": {
     "duration": 0.084574,
     "end_time": "2023-08-09T19:29:44.451967",
     "exception": false,
     "start_time": "2023-08-09T19:29:44.367393",
     "status": "completed"
    },
    "tags": []
   },
   "outputs": [
    {
     "data": {
      "text/html": [
       "<div>                            <div id=\"e5a39d9e-c0aa-496a-9ac7-c39d0ac60324\" class=\"plotly-graph-div\" style=\"height:600px; width:1000px;\"></div>            <script type=\"text/javascript\">                require([\"plotly\"], function(Plotly) {                    window.PLOTLYENV=window.PLOTLYENV || {};                                    if (document.getElementById(\"e5a39d9e-c0aa-496a-9ac7-c39d0ac60324\")) {                    Plotly.newPlot(                        \"e5a39d9e-c0aa-496a-9ac7-c39d0ac60324\",                        [{\"x\":[2000,2001,2002,2003,2004,2005,2006,2007,2008,2009,2010,2011,2012,2013,2014,2015,2016,2017,2018,2019],\"y\":[514220.0,506620.0,524349.9756,544539.978,536419.9829,549030.0293,540530.0293,571630.0049,550469.9707,521320.0073,537010.0098,549289.978,546210.022,555659.9731,561679.9927,558700.0122,556830.0171,568080.0171,580090.0269,580210.022],\"type\":\"bar\",\"xaxis\":\"x\",\"yaxis\":\"y\"},{\"x\":[2000,2001,2002,2003,2004,2005,2006,2007,2008,2009,2010,2011,2012,2013,2014,2015,2016,2017,2018,2019],\"y\":[5775810.0,5748260.0,5593029.785,5658990.234,5738290.039,5753490.234,5653080.078,5736319.824,5558379.883,5156430.176,5392109.863,5173600.098,4956060.059,5092100.098,5107209.961,4990709.961,4894500.0,4819370.117,4975310.059,4817720.215],\"type\":\"bar\",\"xaxis\":\"x2\",\"yaxis\":\"y2\"},{\"x\":[2000,2001,2002,2003,2004,2005,2006,2007,2008,2009,2010,2011,2012,2013,2014,2015,2016,2017,2018,2019],\"y\":[3346530.0,3529080.0,3810060.059,4415910.156,5124819.824,5824629.883,6437470.215,6993180.176,7199600.098,7719069.824,8474919.922,9282549.805,9541870.117,9984570.313,10006669.92,9861099.609,9874660.156,10096009.77,10502929.69,10707219.73],\"type\":\"bar\",\"xaxis\":\"x3\",\"yaxis\":\"y3\"}],                        {\"template\":{\"data\":{\"histogram2dcontour\":[{\"type\":\"histogram2dcontour\",\"colorbar\":{\"outlinewidth\":0,\"ticks\":\"\"},\"colorscale\":[[0.0,\"#0d0887\"],[0.1111111111111111,\"#46039f\"],[0.2222222222222222,\"#7201a8\"],[0.3333333333333333,\"#9c179e\"],[0.4444444444444444,\"#bd3786\"],[0.5555555555555556,\"#d8576b\"],[0.6666666666666666,\"#ed7953\"],[0.7777777777777778,\"#fb9f3a\"],[0.8888888888888888,\"#fdca26\"],[1.0,\"#f0f921\"]]}],\"choropleth\":[{\"type\":\"choropleth\",\"colorbar\":{\"outlinewidth\":0,\"ticks\":\"\"}}],\"histogram2d\":[{\"type\":\"histogram2d\",\"colorbar\":{\"outlinewidth\":0,\"ticks\":\"\"},\"colorscale\":[[0.0,\"#0d0887\"],[0.1111111111111111,\"#46039f\"],[0.2222222222222222,\"#7201a8\"],[0.3333333333333333,\"#9c179e\"],[0.4444444444444444,\"#bd3786\"],[0.5555555555555556,\"#d8576b\"],[0.6666666666666666,\"#ed7953\"],[0.7777777777777778,\"#fb9f3a\"],[0.8888888888888888,\"#fdca26\"],[1.0,\"#f0f921\"]]}],\"heatmap\":[{\"type\":\"heatmap\",\"colorbar\":{\"outlinewidth\":0,\"ticks\":\"\"},\"colorscale\":[[0.0,\"#0d0887\"],[0.1111111111111111,\"#46039f\"],[0.2222222222222222,\"#7201a8\"],[0.3333333333333333,\"#9c179e\"],[0.4444444444444444,\"#bd3786\"],[0.5555555555555556,\"#d8576b\"],[0.6666666666666666,\"#ed7953\"],[0.7777777777777778,\"#fb9f3a\"],[0.8888888888888888,\"#fdca26\"],[1.0,\"#f0f921\"]]}],\"heatmapgl\":[{\"type\":\"heatmapgl\",\"colorbar\":{\"outlinewidth\":0,\"ticks\":\"\"},\"colorscale\":[[0.0,\"#0d0887\"],[0.1111111111111111,\"#46039f\"],[0.2222222222222222,\"#7201a8\"],[0.3333333333333333,\"#9c179e\"],[0.4444444444444444,\"#bd3786\"],[0.5555555555555556,\"#d8576b\"],[0.6666666666666666,\"#ed7953\"],[0.7777777777777778,\"#fb9f3a\"],[0.8888888888888888,\"#fdca26\"],[1.0,\"#f0f921\"]]}],\"contourcarpet\":[{\"type\":\"contourcarpet\",\"colorbar\":{\"outlinewidth\":0,\"ticks\":\"\"}}],\"contour\":[{\"type\":\"contour\",\"colorbar\":{\"outlinewidth\":0,\"ticks\":\"\"},\"colorscale\":[[0.0,\"#0d0887\"],[0.1111111111111111,\"#46039f\"],[0.2222222222222222,\"#7201a8\"],[0.3333333333333333,\"#9c179e\"],[0.4444444444444444,\"#bd3786\"],[0.5555555555555556,\"#d8576b\"],[0.6666666666666666,\"#ed7953\"],[0.7777777777777778,\"#fb9f3a\"],[0.8888888888888888,\"#fdca26\"],[1.0,\"#f0f921\"]]}],\"surface\":[{\"type\":\"surface\",\"colorbar\":{\"outlinewidth\":0,\"ticks\":\"\"},\"colorscale\":[[0.0,\"#0d0887\"],[0.1111111111111111,\"#46039f\"],[0.2222222222222222,\"#7201a8\"],[0.3333333333333333,\"#9c179e\"],[0.4444444444444444,\"#bd3786\"],[0.5555555555555556,\"#d8576b\"],[0.6666666666666666,\"#ed7953\"],[0.7777777777777778,\"#fb9f3a\"],[0.8888888888888888,\"#fdca26\"],[1.0,\"#f0f921\"]]}],\"mesh3d\":[{\"type\":\"mesh3d\",\"colorbar\":{\"outlinewidth\":0,\"ticks\":\"\"}}],\"scatter\":[{\"fillpattern\":{\"fillmode\":\"overlay\",\"size\":10,\"solidity\":0.2},\"type\":\"scatter\"}],\"parcoords\":[{\"type\":\"parcoords\",\"line\":{\"colorbar\":{\"outlinewidth\":0,\"ticks\":\"\"}}}],\"scatterpolargl\":[{\"type\":\"scatterpolargl\",\"marker\":{\"colorbar\":{\"outlinewidth\":0,\"ticks\":\"\"}}}],\"bar\":[{\"error_x\":{\"color\":\"#2a3f5f\"},\"error_y\":{\"color\":\"#2a3f5f\"},\"marker\":{\"line\":{\"color\":\"#E5ECF6\",\"width\":0.5},\"pattern\":{\"fillmode\":\"overlay\",\"size\":10,\"solidity\":0.2}},\"type\":\"bar\"}],\"scattergeo\":[{\"type\":\"scattergeo\",\"marker\":{\"colorbar\":{\"outlinewidth\":0,\"ticks\":\"\"}}}],\"scatterpolar\":[{\"type\":\"scatterpolar\",\"marker\":{\"colorbar\":{\"outlinewidth\":0,\"ticks\":\"\"}}}],\"histogram\":[{\"marker\":{\"pattern\":{\"fillmode\":\"overlay\",\"size\":10,\"solidity\":0.2}},\"type\":\"histogram\"}],\"scattergl\":[{\"type\":\"scattergl\",\"marker\":{\"colorbar\":{\"outlinewidth\":0,\"ticks\":\"\"}}}],\"scatter3d\":[{\"type\":\"scatter3d\",\"line\":{\"colorbar\":{\"outlinewidth\":0,\"ticks\":\"\"}},\"marker\":{\"colorbar\":{\"outlinewidth\":0,\"ticks\":\"\"}}}],\"scattermapbox\":[{\"type\":\"scattermapbox\",\"marker\":{\"colorbar\":{\"outlinewidth\":0,\"ticks\":\"\"}}}],\"scatterternary\":[{\"type\":\"scatterternary\",\"marker\":{\"colorbar\":{\"outlinewidth\":0,\"ticks\":\"\"}}}],\"scattercarpet\":[{\"type\":\"scattercarpet\",\"marker\":{\"colorbar\":{\"outlinewidth\":0,\"ticks\":\"\"}}}],\"carpet\":[{\"aaxis\":{\"endlinecolor\":\"#2a3f5f\",\"gridcolor\":\"white\",\"linecolor\":\"white\",\"minorgridcolor\":\"white\",\"startlinecolor\":\"#2a3f5f\"},\"baxis\":{\"endlinecolor\":\"#2a3f5f\",\"gridcolor\":\"white\",\"linecolor\":\"white\",\"minorgridcolor\":\"white\",\"startlinecolor\":\"#2a3f5f\"},\"type\":\"carpet\"}],\"table\":[{\"cells\":{\"fill\":{\"color\":\"#EBF0F8\"},\"line\":{\"color\":\"white\"}},\"header\":{\"fill\":{\"color\":\"#C8D4E3\"},\"line\":{\"color\":\"white\"}},\"type\":\"table\"}],\"barpolar\":[{\"marker\":{\"line\":{\"color\":\"#E5ECF6\",\"width\":0.5},\"pattern\":{\"fillmode\":\"overlay\",\"size\":10,\"solidity\":0.2}},\"type\":\"barpolar\"}],\"pie\":[{\"automargin\":true,\"type\":\"pie\"}]},\"layout\":{\"autotypenumbers\":\"strict\",\"colorway\":[\"#636efa\",\"#EF553B\",\"#00cc96\",\"#ab63fa\",\"#FFA15A\",\"#19d3f3\",\"#FF6692\",\"#B6E880\",\"#FF97FF\",\"#FECB52\"],\"font\":{\"color\":\"#2a3f5f\"},\"hovermode\":\"closest\",\"hoverlabel\":{\"align\":\"left\"},\"paper_bgcolor\":\"white\",\"plot_bgcolor\":\"#E5ECF6\",\"polar\":{\"bgcolor\":\"#E5ECF6\",\"angularaxis\":{\"gridcolor\":\"white\",\"linecolor\":\"white\",\"ticks\":\"\"},\"radialaxis\":{\"gridcolor\":\"white\",\"linecolor\":\"white\",\"ticks\":\"\"}},\"ternary\":{\"bgcolor\":\"#E5ECF6\",\"aaxis\":{\"gridcolor\":\"white\",\"linecolor\":\"white\",\"ticks\":\"\"},\"baxis\":{\"gridcolor\":\"white\",\"linecolor\":\"white\",\"ticks\":\"\"},\"caxis\":{\"gridcolor\":\"white\",\"linecolor\":\"white\",\"ticks\":\"\"}},\"coloraxis\":{\"colorbar\":{\"outlinewidth\":0,\"ticks\":\"\"}},\"colorscale\":{\"sequential\":[[0.0,\"#0d0887\"],[0.1111111111111111,\"#46039f\"],[0.2222222222222222,\"#7201a8\"],[0.3333333333333333,\"#9c179e\"],[0.4444444444444444,\"#bd3786\"],[0.5555555555555556,\"#d8576b\"],[0.6666666666666666,\"#ed7953\"],[0.7777777777777778,\"#fb9f3a\"],[0.8888888888888888,\"#fdca26\"],[1.0,\"#f0f921\"]],\"sequentialminus\":[[0.0,\"#0d0887\"],[0.1111111111111111,\"#46039f\"],[0.2222222222222222,\"#7201a8\"],[0.3333333333333333,\"#9c179e\"],[0.4444444444444444,\"#bd3786\"],[0.5555555555555556,\"#d8576b\"],[0.6666666666666666,\"#ed7953\"],[0.7777777777777778,\"#fb9f3a\"],[0.8888888888888888,\"#fdca26\"],[1.0,\"#f0f921\"]],\"diverging\":[[0,\"#8e0152\"],[0.1,\"#c51b7d\"],[0.2,\"#de77ae\"],[0.3,\"#f1b6da\"],[0.4,\"#fde0ef\"],[0.5,\"#f7f7f7\"],[0.6,\"#e6f5d0\"],[0.7,\"#b8e186\"],[0.8,\"#7fbc41\"],[0.9,\"#4d9221\"],[1,\"#276419\"]]},\"xaxis\":{\"gridcolor\":\"white\",\"linecolor\":\"white\",\"ticks\":\"\",\"title\":{\"standoff\":15},\"zerolinecolor\":\"white\",\"automargin\":true,\"zerolinewidth\":2},\"yaxis\":{\"gridcolor\":\"white\",\"linecolor\":\"white\",\"ticks\":\"\",\"title\":{\"standoff\":15},\"zerolinecolor\":\"white\",\"automargin\":true,\"zerolinewidth\":2},\"scene\":{\"xaxis\":{\"backgroundcolor\":\"#E5ECF6\",\"gridcolor\":\"white\",\"linecolor\":\"white\",\"showbackground\":true,\"ticks\":\"\",\"zerolinecolor\":\"white\",\"gridwidth\":2},\"yaxis\":{\"backgroundcolor\":\"#E5ECF6\",\"gridcolor\":\"white\",\"linecolor\":\"white\",\"showbackground\":true,\"ticks\":\"\",\"zerolinecolor\":\"white\",\"gridwidth\":2},\"zaxis\":{\"backgroundcolor\":\"#E5ECF6\",\"gridcolor\":\"white\",\"linecolor\":\"white\",\"showbackground\":true,\"ticks\":\"\",\"zerolinecolor\":\"white\",\"gridwidth\":2}},\"shapedefaults\":{\"line\":{\"color\":\"#2a3f5f\"}},\"annotationdefaults\":{\"arrowcolor\":\"#2a3f5f\",\"arrowhead\":0,\"arrowwidth\":1},\"geo\":{\"bgcolor\":\"white\",\"landcolor\":\"#E5ECF6\",\"subunitcolor\":\"white\",\"showland\":true,\"showlakes\":true,\"lakecolor\":\"white\"},\"title\":{\"x\":0.05},\"mapbox\":{\"style\":\"light\"}}},\"xaxis\":{\"anchor\":\"y\",\"domain\":[0.0,0.45]},\"yaxis\":{\"anchor\":\"x\",\"domain\":[0.625,1.0]},\"xaxis2\":{\"anchor\":\"y2\",\"domain\":[0.55,1.0]},\"yaxis2\":{\"anchor\":\"x2\",\"domain\":[0.625,1.0]},\"xaxis3\":{\"anchor\":\"y3\",\"domain\":[0.0,1.0]},\"yaxis3\":{\"anchor\":\"x3\",\"domain\":[0.0,0.375]},\"annotations\":[{\"font\":{\"size\":16},\"showarrow\":false,\"text\":\"Canada\",\"x\":0.225,\"xanchor\":\"center\",\"xref\":\"paper\",\"y\":1.0,\"yanchor\":\"bottom\",\"yref\":\"paper\"},{\"font\":{\"size\":16},\"showarrow\":false,\"text\":\"United States\",\"x\":0.775,\"xanchor\":\"center\",\"xref\":\"paper\",\"y\":1.0,\"yanchor\":\"bottom\",\"yref\":\"paper\"},{\"font\":{\"size\":16},\"showarrow\":false,\"text\":\"China\",\"x\":0.5,\"xanchor\":\"center\",\"xref\":\"paper\",\"y\":0.375,\"yanchor\":\"bottom\",\"yref\":\"paper\"}],\"title\":{\"text\":\"CO2 emission - in kiloton - by the three biggest countries in the world, per year\",\"x\":0.5},\"height\":600,\"width\":1000,\"showlegend\":false},                        {\"responsive\": true}                    ).then(function(){\n",
       "                            \n",
       "var gd = document.getElementById('e5a39d9e-c0aa-496a-9ac7-c39d0ac60324');\n",
       "var x = new MutationObserver(function (mutations, observer) {{\n",
       "        var display = window.getComputedStyle(gd).display;\n",
       "        if (!display || display === 'none') {{\n",
       "            console.log([gd, 'removed!']);\n",
       "            Plotly.purge(gd);\n",
       "            observer.disconnect();\n",
       "        }}\n",
       "}});\n",
       "\n",
       "// Listen for the removal of the full notebook cells\n",
       "var notebookContainer = gd.closest('#notebook-container');\n",
       "if (notebookContainer) {{\n",
       "    x.observe(notebookContainer, {childList: true});\n",
       "}}\n",
       "\n",
       "// Listen for the clearing of the current output cell\n",
       "var outputEl = gd.closest('.output');\n",
       "if (outputEl) {{\n",
       "    x.observe(outputEl, {childList: true});\n",
       "}}\n",
       "\n",
       "                        })                };                });            </script>        </div>"
      ]
     },
     "metadata": {},
     "output_type": "display_data"
    }
   ],
   "source": [
    "# Imports important packages from plotly\n",
    "from plotly.subplots import make_subplots\n",
    "import plotly.graph_objects as go\n",
    "\n",
    "# Creates the subplot for the 3 graphs\n",
    "fig = make_subplots(\n",
    "    rows=2, cols=2,\n",
    "    specs=[[{}, {}],\n",
    "           [{\"colspan\": 2}, None]],\n",
    "    subplot_titles=('Canada', 'United States', 'China')\n",
    ")\n",
    "\n",
    "# Adds the 3 graphs into the subplot\n",
    "fig.add_trace(\n",
    "    go.Bar(x=energy_co2_data_canada['Year'], y=energy_co2_data_canada['co2']),\n",
    "    row=1, col=1\n",
    ")\n",
    "\n",
    "fig.add_trace(\n",
    "    go.Bar(x=energy_co2_data_united_states['Year'], y=energy_co2_data_united_states['co2']),\n",
    "    row=1, col=2\n",
    ")\n",
    "\n",
    "fig.add_trace(\n",
    "    go.Bar(x=energy_co2_data_china['Year'], y=energy_co2_data_china['co2']),\n",
    "    row=2, col=1\n",
    ")\n",
    "\n",
    "# Updates subplot layout\n",
    "fig.update_layout(height=600, width=1000, showlegend=False, title={\n",
    "    'text': 'CO2 emission - in kiloton - by the three biggest countries in the world, per year',\n",
    "    'x': 0.5\n",
    "})\n",
    "\n",
    "# Shows subplot\n",
    "fig.show()"
   ]
  },
  {
   "cell_type": "markdown",
   "id": "3e00cc0b",
   "metadata": {
    "papermill": {
     "duration": 0.018209,
     "end_time": "2023-08-09T19:29:44.488815",
     "exception": false,
     "start_time": "2023-08-09T19:29:44.470606",
     "status": "completed"
    },
    "tags": []
   },
   "source": [
    "- From the dataset, CO2 emissions are in kiloton"
   ]
  },
  {
   "cell_type": "markdown",
   "id": "81017c8b",
   "metadata": {
    "papermill": {
     "duration": 0.018153,
     "end_time": "2023-08-09T19:29:44.525421",
     "exception": false,
     "start_time": "2023-08-09T19:29:44.507268",
     "status": "completed"
    },
    "tags": []
   },
   "source": [
    "Making the graphs analyses, we can conclude that Canada, that's the biggest country here, emmited, in 2019, 580.21k - kiloton - of CO2, while United States and China emmited way more than that. So, as conclusion, we can't say that Land Area has something to do with CO2 emissions values."
   ]
  },
  {
   "cell_type": "markdown",
   "id": "f42be862",
   "metadata": {
    "papermill": {
     "duration": 0.018115,
     "end_time": "2023-08-09T19:29:44.561922",
     "exception": false,
     "start_time": "2023-08-09T19:29:44.543807",
     "status": "completed"
    },
    "tags": []
   },
   "source": [
    "# Trying another route\n",
    "As the Land Area was not useful to the raltionship of CO2 emission, let's try to got another way and see if we can find something."
   ]
  },
  {
   "cell_type": "markdown",
   "id": "52d7b6af",
   "metadata": {
    "papermill": {
     "duration": 0.018099,
     "end_time": "2023-08-09T19:29:44.598516",
     "exception": false,
     "start_time": "2023-08-09T19:29:44.580417",
     "status": "completed"
    },
    "tags": []
   },
   "source": [
    "Let's get the top 3 CO2 emissors countries in the world. But, for this, as the dataset has a lot of years registered, getting the most recent one with data available would be great for the analysis, I guess."
   ]
  },
  {
   "cell_type": "markdown",
   "id": "93e4c64c",
   "metadata": {
    "papermill": {
     "duration": 0.018103,
     "end_time": "2023-08-09T19:29:44.634877",
     "exception": false,
     "start_time": "2023-08-09T19:29:44.616774",
     "status": "completed"
    },
    "tags": []
   },
   "source": [
    "## Getting 2019 CO2 emissions"
   ]
  },
  {
   "cell_type": "code",
   "execution_count": 23,
   "id": "d799d509",
   "metadata": {
    "execution": {
     "iopub.execute_input": "2023-08-09T19:29:44.673637Z",
     "iopub.status.busy": "2023-08-09T19:29:44.673205Z",
     "iopub.status.idle": "2023-08-09T19:29:44.682291Z",
     "shell.execute_reply": "2023-08-09T19:29:44.681496Z"
    },
    "papermill": {
     "duration": 0.031297,
     "end_time": "2023-08-09T19:29:44.684614",
     "exception": false,
     "start_time": "2023-08-09T19:29:44.653317",
     "status": "completed"
    },
    "tags": []
   },
   "outputs": [
    {
     "data": {
      "text/plain": [
       "Index(['Entity', 'Year', 'co2'], dtype='object')"
      ]
     },
     "execution_count": 23,
     "metadata": {},
     "output_type": "execute_result"
    }
   ],
   "source": [
    "# Gets all the years of 2019\n",
    "energy_co2_data_2019 = energy_co2_data[(energy_co2_data['Year'] == 2019)]\n",
    "\n",
    "# Drops the missing values\n",
    "energy_co2_data_2019 = energy_co2_data_2019.dropna()\n",
    "\n",
    "# Shows it columns\n",
    "energy_co2_data_2019.columns"
   ]
  },
  {
   "cell_type": "code",
   "execution_count": 24,
   "id": "e33e4e7b",
   "metadata": {
    "execution": {
     "iopub.execute_input": "2023-08-09T19:29:44.725053Z",
     "iopub.status.busy": "2023-08-09T19:29:44.724304Z",
     "iopub.status.idle": "2023-08-09T19:29:44.797299Z",
     "shell.execute_reply": "2023-08-09T19:29:44.796281Z"
    },
    "papermill": {
     "duration": 0.096456,
     "end_time": "2023-08-09T19:29:44.799953",
     "exception": false,
     "start_time": "2023-08-09T19:29:44.703497",
     "status": "completed"
    },
    "tags": []
   },
   "outputs": [
    {
     "data": {
      "text/html": [
       "<div>                            <div id=\"d5e80c02-9fe0-4db0-9d96-f37984191350\" class=\"plotly-graph-div\" style=\"height:525px; width:100%;\"></div>            <script type=\"text/javascript\">                require([\"plotly\"], function(Plotly) {                    window.PLOTLYENV=window.PLOTLYENV || {};                                    if (document.getElementById(\"d5e80c02-9fe0-4db0-9d96-f37984191350\")) {                    Plotly.newPlot(                        \"d5e80c02-9fe0-4db0-9d96-f37984191350\",                        [{\"alignmentgroup\":\"True\",\"hovertemplate\":\"Entity=%{x}\\u003cbr\\u003eco2=%{y}\\u003cextra\\u003e\\u003c\\u002fextra\\u003e\",\"legendgroup\":\"\",\"marker\":{\"color\":\"#636efa\",\"pattern\":{\"shape\":\"\"}},\"name\":\"\",\"offsetgroup\":\"\",\"orientation\":\"v\",\"showlegend\":false,\"textposition\":\"auto\",\"x\":[\"Afghanistan\",\"Albania\",\"Algeria\",\"Angola\",\"Antigua and Barbuda\",\"Argentina\",\"Armenia\",\"Australia\",\"Austria\",\"Azerbaijan\",\"Bahrain\",\"Bangladesh\",\"Barbados\",\"Belarus\",\"Belgium\",\"Belize\",\"Benin\",\"Bhutan\",\"Bosnia and Herzegovina\",\"Botswana\",\"Brazil\",\"Bulgaria\",\"Burkina Faso\",\"Burundi\",\"Cambodia\",\"Cameroon\",\"Canada\",\"Central African Republic\",\"Chad\",\"Chile\",\"China\",\"Colombia\",\"Comoros\",\"Costa Rica\",\"Croatia\",\"Cuba\",\"Cyprus\",\"Czechia\",\"Denmark\",\"Djibouti\",\"Dominica\",\"Dominican Republic\",\"Ecuador\",\"El Salvador\",\"Equatorial Guinea\",\"Eritrea\",\"Estonia\",\"Eswatini\",\"Ethiopia\",\"Fiji\",\"Finland\",\"France\",\"Gabon\",\"Georgia\",\"Germany\",\"Ghana\",\"Greece\",\"Grenada\",\"Guatemala\",\"Guinea\",\"Guinea-Bissau\",\"Guyana\",\"Haiti\",\"Honduras\",\"Hungary\",\"Iceland\",\"India\",\"Indonesia\",\"Iraq\",\"Ireland\",\"Israel\",\"Italy\",\"Jamaica\",\"Japan\",\"Jordan\",\"Kazakhstan\",\"Kenya\",\"Kiribati\",\"Kuwait\",\"Latvia\",\"Lebanon\",\"Lesotho\",\"Liberia\",\"Libya\",\"Lithuania\",\"Luxembourg\",\"Madagascar\",\"Malawi\",\"Malaysia\",\"Maldives\",\"Mali\",\"Malta\",\"Mauritania\",\"Mauritius\",\"Mexico\",\"Mongolia\",\"Montenegro\",\"Morocco\",\"Mozambique\",\"Myanmar\",\"Namibia\",\"Nauru\",\"Nepal\",\"Netherlands\",\"New Zealand\",\"Nicaragua\",\"Niger\",\"Nigeria\",\"North Macedonia\",\"Norway\",\"Oman\",\"Pakistan\",\"Panama\",\"Papua New Guinea\",\"Paraguay\",\"Peru\",\"Philippines\",\"Poland\",\"Portugal\",\"Qatar\",\"Romania\",\"Rwanda\",\"Samoa\",\"Sao Tome and Principe\",\"Saudi Arabia\",\"Senegal\",\"Serbia\",\"Seychelles\",\"Sierra Leone\",\"Singapore\",\"Slovenia\",\"Solomon Islands\",\"Somalia\",\"South Africa\",\"South Sudan\",\"Spain\",\"Sri Lanka\",\"Sudan\",\"Suriname\",\"Sweden\",\"Switzerland\",\"Tajikistan\",\"Thailand\",\"Togo\",\"Tonga\",\"Trinidad and Tobago\",\"Tunisia\",\"Turkmenistan\",\"Tuvalu\",\"Uganda\",\"Ukraine\",\"United Arab Emirates\",\"United Kingdom\",\"United States\",\"Uruguay\",\"Uzbekistan\",\"Vanuatu\",\"Zambia\",\"Zimbabwe\"],\"xaxis\":\"x\",\"y\":[6079.999924,4829.999924,171250.0,25209.99908,519.9999809,168100.0061,6170.000076,386529.9988,64769.99664,35509.99832,33259.99832,90739.99786,1250.0,57669.99817,93010.00214,639.9999857,7300.000191,1049.999952,21069.99969,7250.0,434299.9878,39139.99939,5000.0,720.0000286,16180.00031,9430.000305,580210.022,239.9999946,2250.0,91370.00275,10707219.73,81040.00092,319.9999928,8239.999771,16520.00046,25909.99985,7190.000057,96290.00092,29700.00076,419.9999869,170.0000018,27229.99954,39290.00092,7800.000191,5349.999905,879.9999952,10180.00031,959.9999785,18360.00061,1629.999995,40709.99908,300519.989,5250.0,10109.99966,657400.0244,20040.00092,60000.0,330.0000131,19309.99947,3950.000048,330.0000131,2849.999905,3319.999933,10220.00027,46380.00107,1639.999986,2456300.049,619840.0269,174559.9976,35750.0,62650.00153,317239.9902,8390.000343,1081569.946,24629.99916,212110.0006,22280.00069,90.00000358,92650.00153,7570.000172,27950.00076,769.9999809,1179.999948,56799.99924,11729.99954,9489.999771,4119.999886,1450.000048,253270.0043,2109.999895,5829.999924,1659.999967,3950.000048,4170.000076,449269.989,23069.99969,2599.999905,71480.00336,7500.0,36720.00122,4219.99979,59.99999866,13449.99981,146339.9963,34009.99832,5239.999771,2150.000095,115279.9988,8300.000191,35950.00076,76029.99878,190570.0073,13340.00015,7579.999924,8210.000038,56750.0,145419.9982,295130.0049,44639.99939,91970.00122,73949.99695,1330.000043,300.0000119,150.000006,523780.0293,10619.99989,45950.00076,610.0000143,899.9999762,47380.00107,13600.00038,360.0000143,689.9999976,439640.0146,1700.000048,239979.9957,23780.00069,20620.00084,2650.000095,35000.0,37380.00107,9420.000076,267089.9963,2369.999886,159.9999964,17190.00053,29909.99985,72870.00275,9.999999776,5860.000134,174729.9957,188860.0006,348920.0134,4817720.215,6489.999771,116709.9991,209.9999934,6800.000191,11760.00023],\"yaxis\":\"y\",\"type\":\"bar\"}],                        {\"template\":{\"data\":{\"histogram2dcontour\":[{\"type\":\"histogram2dcontour\",\"colorbar\":{\"outlinewidth\":0,\"ticks\":\"\"},\"colorscale\":[[0.0,\"#0d0887\"],[0.1111111111111111,\"#46039f\"],[0.2222222222222222,\"#7201a8\"],[0.3333333333333333,\"#9c179e\"],[0.4444444444444444,\"#bd3786\"],[0.5555555555555556,\"#d8576b\"],[0.6666666666666666,\"#ed7953\"],[0.7777777777777778,\"#fb9f3a\"],[0.8888888888888888,\"#fdca26\"],[1.0,\"#f0f921\"]]}],\"choropleth\":[{\"type\":\"choropleth\",\"colorbar\":{\"outlinewidth\":0,\"ticks\":\"\"}}],\"histogram2d\":[{\"type\":\"histogram2d\",\"colorbar\":{\"outlinewidth\":0,\"ticks\":\"\"},\"colorscale\":[[0.0,\"#0d0887\"],[0.1111111111111111,\"#46039f\"],[0.2222222222222222,\"#7201a8\"],[0.3333333333333333,\"#9c179e\"],[0.4444444444444444,\"#bd3786\"],[0.5555555555555556,\"#d8576b\"],[0.6666666666666666,\"#ed7953\"],[0.7777777777777778,\"#fb9f3a\"],[0.8888888888888888,\"#fdca26\"],[1.0,\"#f0f921\"]]}],\"heatmap\":[{\"type\":\"heatmap\",\"colorbar\":{\"outlinewidth\":0,\"ticks\":\"\"},\"colorscale\":[[0.0,\"#0d0887\"],[0.1111111111111111,\"#46039f\"],[0.2222222222222222,\"#7201a8\"],[0.3333333333333333,\"#9c179e\"],[0.4444444444444444,\"#bd3786\"],[0.5555555555555556,\"#d8576b\"],[0.6666666666666666,\"#ed7953\"],[0.7777777777777778,\"#fb9f3a\"],[0.8888888888888888,\"#fdca26\"],[1.0,\"#f0f921\"]]}],\"heatmapgl\":[{\"type\":\"heatmapgl\",\"colorbar\":{\"outlinewidth\":0,\"ticks\":\"\"},\"colorscale\":[[0.0,\"#0d0887\"],[0.1111111111111111,\"#46039f\"],[0.2222222222222222,\"#7201a8\"],[0.3333333333333333,\"#9c179e\"],[0.4444444444444444,\"#bd3786\"],[0.5555555555555556,\"#d8576b\"],[0.6666666666666666,\"#ed7953\"],[0.7777777777777778,\"#fb9f3a\"],[0.8888888888888888,\"#fdca26\"],[1.0,\"#f0f921\"]]}],\"contourcarpet\":[{\"type\":\"contourcarpet\",\"colorbar\":{\"outlinewidth\":0,\"ticks\":\"\"}}],\"contour\":[{\"type\":\"contour\",\"colorbar\":{\"outlinewidth\":0,\"ticks\":\"\"},\"colorscale\":[[0.0,\"#0d0887\"],[0.1111111111111111,\"#46039f\"],[0.2222222222222222,\"#7201a8\"],[0.3333333333333333,\"#9c179e\"],[0.4444444444444444,\"#bd3786\"],[0.5555555555555556,\"#d8576b\"],[0.6666666666666666,\"#ed7953\"],[0.7777777777777778,\"#fb9f3a\"],[0.8888888888888888,\"#fdca26\"],[1.0,\"#f0f921\"]]}],\"surface\":[{\"type\":\"surface\",\"colorbar\":{\"outlinewidth\":0,\"ticks\":\"\"},\"colorscale\":[[0.0,\"#0d0887\"],[0.1111111111111111,\"#46039f\"],[0.2222222222222222,\"#7201a8\"],[0.3333333333333333,\"#9c179e\"],[0.4444444444444444,\"#bd3786\"],[0.5555555555555556,\"#d8576b\"],[0.6666666666666666,\"#ed7953\"],[0.7777777777777778,\"#fb9f3a\"],[0.8888888888888888,\"#fdca26\"],[1.0,\"#f0f921\"]]}],\"mesh3d\":[{\"type\":\"mesh3d\",\"colorbar\":{\"outlinewidth\":0,\"ticks\":\"\"}}],\"scatter\":[{\"fillpattern\":{\"fillmode\":\"overlay\",\"size\":10,\"solidity\":0.2},\"type\":\"scatter\"}],\"parcoords\":[{\"type\":\"parcoords\",\"line\":{\"colorbar\":{\"outlinewidth\":0,\"ticks\":\"\"}}}],\"scatterpolargl\":[{\"type\":\"scatterpolargl\",\"marker\":{\"colorbar\":{\"outlinewidth\":0,\"ticks\":\"\"}}}],\"bar\":[{\"error_x\":{\"color\":\"#2a3f5f\"},\"error_y\":{\"color\":\"#2a3f5f\"},\"marker\":{\"line\":{\"color\":\"#E5ECF6\",\"width\":0.5},\"pattern\":{\"fillmode\":\"overlay\",\"size\":10,\"solidity\":0.2}},\"type\":\"bar\"}],\"scattergeo\":[{\"type\":\"scattergeo\",\"marker\":{\"colorbar\":{\"outlinewidth\":0,\"ticks\":\"\"}}}],\"scatterpolar\":[{\"type\":\"scatterpolar\",\"marker\":{\"colorbar\":{\"outlinewidth\":0,\"ticks\":\"\"}}}],\"histogram\":[{\"marker\":{\"pattern\":{\"fillmode\":\"overlay\",\"size\":10,\"solidity\":0.2}},\"type\":\"histogram\"}],\"scattergl\":[{\"type\":\"scattergl\",\"marker\":{\"colorbar\":{\"outlinewidth\":0,\"ticks\":\"\"}}}],\"scatter3d\":[{\"type\":\"scatter3d\",\"line\":{\"colorbar\":{\"outlinewidth\":0,\"ticks\":\"\"}},\"marker\":{\"colorbar\":{\"outlinewidth\":0,\"ticks\":\"\"}}}],\"scattermapbox\":[{\"type\":\"scattermapbox\",\"marker\":{\"colorbar\":{\"outlinewidth\":0,\"ticks\":\"\"}}}],\"scatterternary\":[{\"type\":\"scatterternary\",\"marker\":{\"colorbar\":{\"outlinewidth\":0,\"ticks\":\"\"}}}],\"scattercarpet\":[{\"type\":\"scattercarpet\",\"marker\":{\"colorbar\":{\"outlinewidth\":0,\"ticks\":\"\"}}}],\"carpet\":[{\"aaxis\":{\"endlinecolor\":\"#2a3f5f\",\"gridcolor\":\"white\",\"linecolor\":\"white\",\"minorgridcolor\":\"white\",\"startlinecolor\":\"#2a3f5f\"},\"baxis\":{\"endlinecolor\":\"#2a3f5f\",\"gridcolor\":\"white\",\"linecolor\":\"white\",\"minorgridcolor\":\"white\",\"startlinecolor\":\"#2a3f5f\"},\"type\":\"carpet\"}],\"table\":[{\"cells\":{\"fill\":{\"color\":\"#EBF0F8\"},\"line\":{\"color\":\"white\"}},\"header\":{\"fill\":{\"color\":\"#C8D4E3\"},\"line\":{\"color\":\"white\"}},\"type\":\"table\"}],\"barpolar\":[{\"marker\":{\"line\":{\"color\":\"#E5ECF6\",\"width\":0.5},\"pattern\":{\"fillmode\":\"overlay\",\"size\":10,\"solidity\":0.2}},\"type\":\"barpolar\"}],\"pie\":[{\"automargin\":true,\"type\":\"pie\"}]},\"layout\":{\"autotypenumbers\":\"strict\",\"colorway\":[\"#636efa\",\"#EF553B\",\"#00cc96\",\"#ab63fa\",\"#FFA15A\",\"#19d3f3\",\"#FF6692\",\"#B6E880\",\"#FF97FF\",\"#FECB52\"],\"font\":{\"color\":\"#2a3f5f\"},\"hovermode\":\"closest\",\"hoverlabel\":{\"align\":\"left\"},\"paper_bgcolor\":\"white\",\"plot_bgcolor\":\"#E5ECF6\",\"polar\":{\"bgcolor\":\"#E5ECF6\",\"angularaxis\":{\"gridcolor\":\"white\",\"linecolor\":\"white\",\"ticks\":\"\"},\"radialaxis\":{\"gridcolor\":\"white\",\"linecolor\":\"white\",\"ticks\":\"\"}},\"ternary\":{\"bgcolor\":\"#E5ECF6\",\"aaxis\":{\"gridcolor\":\"white\",\"linecolor\":\"white\",\"ticks\":\"\"},\"baxis\":{\"gridcolor\":\"white\",\"linecolor\":\"white\",\"ticks\":\"\"},\"caxis\":{\"gridcolor\":\"white\",\"linecolor\":\"white\",\"ticks\":\"\"}},\"coloraxis\":{\"colorbar\":{\"outlinewidth\":0,\"ticks\":\"\"}},\"colorscale\":{\"sequential\":[[0.0,\"#0d0887\"],[0.1111111111111111,\"#46039f\"],[0.2222222222222222,\"#7201a8\"],[0.3333333333333333,\"#9c179e\"],[0.4444444444444444,\"#bd3786\"],[0.5555555555555556,\"#d8576b\"],[0.6666666666666666,\"#ed7953\"],[0.7777777777777778,\"#fb9f3a\"],[0.8888888888888888,\"#fdca26\"],[1.0,\"#f0f921\"]],\"sequentialminus\":[[0.0,\"#0d0887\"],[0.1111111111111111,\"#46039f\"],[0.2222222222222222,\"#7201a8\"],[0.3333333333333333,\"#9c179e\"],[0.4444444444444444,\"#bd3786\"],[0.5555555555555556,\"#d8576b\"],[0.6666666666666666,\"#ed7953\"],[0.7777777777777778,\"#fb9f3a\"],[0.8888888888888888,\"#fdca26\"],[1.0,\"#f0f921\"]],\"diverging\":[[0,\"#8e0152\"],[0.1,\"#c51b7d\"],[0.2,\"#de77ae\"],[0.3,\"#f1b6da\"],[0.4,\"#fde0ef\"],[0.5,\"#f7f7f7\"],[0.6,\"#e6f5d0\"],[0.7,\"#b8e186\"],[0.8,\"#7fbc41\"],[0.9,\"#4d9221\"],[1,\"#276419\"]]},\"xaxis\":{\"gridcolor\":\"white\",\"linecolor\":\"white\",\"ticks\":\"\",\"title\":{\"standoff\":15},\"zerolinecolor\":\"white\",\"automargin\":true,\"zerolinewidth\":2},\"yaxis\":{\"gridcolor\":\"white\",\"linecolor\":\"white\",\"ticks\":\"\",\"title\":{\"standoff\":15},\"zerolinecolor\":\"white\",\"automargin\":true,\"zerolinewidth\":2},\"scene\":{\"xaxis\":{\"backgroundcolor\":\"#E5ECF6\",\"gridcolor\":\"white\",\"linecolor\":\"white\",\"showbackground\":true,\"ticks\":\"\",\"zerolinecolor\":\"white\",\"gridwidth\":2},\"yaxis\":{\"backgroundcolor\":\"#E5ECF6\",\"gridcolor\":\"white\",\"linecolor\":\"white\",\"showbackground\":true,\"ticks\":\"\",\"zerolinecolor\":\"white\",\"gridwidth\":2},\"zaxis\":{\"backgroundcolor\":\"#E5ECF6\",\"gridcolor\":\"white\",\"linecolor\":\"white\",\"showbackground\":true,\"ticks\":\"\",\"zerolinecolor\":\"white\",\"gridwidth\":2}},\"shapedefaults\":{\"line\":{\"color\":\"#2a3f5f\"}},\"annotationdefaults\":{\"arrowcolor\":\"#2a3f5f\",\"arrowhead\":0,\"arrowwidth\":1},\"geo\":{\"bgcolor\":\"white\",\"landcolor\":\"#E5ECF6\",\"subunitcolor\":\"white\",\"showland\":true,\"showlakes\":true,\"lakecolor\":\"white\"},\"title\":{\"x\":0.05},\"mapbox\":{\"style\":\"light\"}}},\"xaxis\":{\"anchor\":\"y\",\"domain\":[0.0,1.0],\"title\":{\"text\":\"Entity\"}},\"yaxis\":{\"anchor\":\"x\",\"domain\":[0.0,1.0],\"title\":{\"text\":\"co2\"}},\"legend\":{\"tracegroupgap\":0},\"margin\":{\"t\":60},\"barmode\":\"relative\",\"title\":{\"text\":\"CO2 emission - in kiloton - by all the countries in the world, per year\",\"x\":0.5}},                        {\"responsive\": true}                    ).then(function(){\n",
       "                            \n",
       "var gd = document.getElementById('d5e80c02-9fe0-4db0-9d96-f37984191350');\n",
       "var x = new MutationObserver(function (mutations, observer) {{\n",
       "        var display = window.getComputedStyle(gd).display;\n",
       "        if (!display || display === 'none') {{\n",
       "            console.log([gd, 'removed!']);\n",
       "            Plotly.purge(gd);\n",
       "            observer.disconnect();\n",
       "        }}\n",
       "}});\n",
       "\n",
       "// Listen for the removal of the full notebook cells\n",
       "var notebookContainer = gd.closest('#notebook-container');\n",
       "if (notebookContainer) {{\n",
       "    x.observe(notebookContainer, {childList: true});\n",
       "}}\n",
       "\n",
       "// Listen for the clearing of the current output cell\n",
       "var outputEl = gd.closest('.output');\n",
       "if (outputEl) {{\n",
       "    x.observe(outputEl, {childList: true});\n",
       "}}\n",
       "\n",
       "                        })                };                });            </script>        </div>"
      ]
     },
     "metadata": {},
     "output_type": "display_data"
    }
   ],
   "source": [
    "# Creates the graph of 2019 CO2 emissions\n",
    "fig_co2_2019 = px.bar(energy_co2_data_2019, x='Entity', y='co2')\n",
    "\n",
    "# Updates graph layout\n",
    "fig_co2_2019.update_layout(title={\n",
    "    'text': 'CO2 emission - in kiloton - by all the countries in the world, per year',\n",
    "    'x': 0.5\n",
    "})\n",
    "\n",
    "# Shows graph\n",
    "fig_co2_2019.show()"
   ]
  },
  {
   "cell_type": "markdown",
   "id": "52437e29",
   "metadata": {
    "papermill": {
     "duration": 0.018667,
     "end_time": "2023-08-09T19:29:44.837707",
     "exception": false,
     "start_time": "2023-08-09T19:29:44.819040",
     "status": "completed"
    },
    "tags": []
   },
   "source": [
    "It's possible to say that the top 3 countries that most emmit CO2 are:\n",
    "1. China\n",
    "2. United States\n",
    "3. India\n",
    "\n",
    "What can we interesting find about this countries? Let's think about it.\n",
    "\n",
    "Fossil fuels are big CO2 issuers. How is the Electricity from fossil fuels in TWh countries graph?"
   ]
  },
  {
   "cell_type": "markdown",
   "id": "566f5ad4",
   "metadata": {
    "papermill": {
     "duration": 0.018777,
     "end_time": "2023-08-09T19:29:44.875385",
     "exception": false,
     "start_time": "2023-08-09T19:29:44.856608",
     "status": "completed"
    },
    "tags": []
   },
   "source": [
    "# CO2 emission and Electricity from fossil fuels"
   ]
  },
  {
   "cell_type": "markdown",
   "id": "5773e654",
   "metadata": {
    "papermill": {
     "duration": 0.018591,
     "end_time": "2023-08-09T19:29:44.912809",
     "exception": false,
     "start_time": "2023-08-09T19:29:44.894218",
     "status": "completed"
    },
    "tags": []
   },
   "source": [
    "## Getting the Country, Year and Electricity from fossil fuels columns"
   ]
  },
  {
   "cell_type": "code",
   "execution_count": 25,
   "id": "ce97dfde",
   "metadata": {
    "execution": {
     "iopub.execute_input": "2023-08-09T19:29:44.952219Z",
     "iopub.status.busy": "2023-08-09T19:29:44.951835Z",
     "iopub.status.idle": "2023-08-09T19:29:44.960540Z",
     "shell.execute_reply": "2023-08-09T19:29:44.959443Z"
    },
    "papermill": {
     "duration": 0.03094,
     "end_time": "2023-08-09T19:29:44.962696",
     "exception": false,
     "start_time": "2023-08-09T19:29:44.931756",
     "status": "completed"
    },
    "tags": []
   },
   "outputs": [],
   "source": [
    "energy_data_fossil_fuels = energy_data[['Entity', 'Year', 'Electricity from fossil fuels (TWh)']]\n",
    "\n",
    "energy_data_fossil_fuels_2019 = energy_data_fossil_fuels[(energy_data_fossil_fuels['Year'] == 2019)].dropna()"
   ]
  },
  {
   "cell_type": "markdown",
   "id": "277a2a8c",
   "metadata": {
    "papermill": {
     "duration": 0.018684,
     "end_time": "2023-08-09T19:29:45.000515",
     "exception": false,
     "start_time": "2023-08-09T19:29:44.981831",
     "status": "completed"
    },
    "tags": []
   },
   "source": [
    "## Creating the graph"
   ]
  },
  {
   "cell_type": "code",
   "execution_count": 26,
   "id": "801fb858",
   "metadata": {
    "execution": {
     "iopub.execute_input": "2023-08-09T19:29:45.041190Z",
     "iopub.status.busy": "2023-08-09T19:29:45.040761Z",
     "iopub.status.idle": "2023-08-09T19:29:45.116116Z",
     "shell.execute_reply": "2023-08-09T19:29:45.114773Z"
    },
    "papermill": {
     "duration": 0.098011,
     "end_time": "2023-08-09T19:29:45.118333",
     "exception": false,
     "start_time": "2023-08-09T19:29:45.020322",
     "status": "completed"
    },
    "tags": []
   },
   "outputs": [
    {
     "data": {
      "text/html": [
       "<div>                            <div id=\"942d2d1b-a3a7-417c-8071-2bef268379da\" class=\"plotly-graph-div\" style=\"height:525px; width:100%;\"></div>            <script type=\"text/javascript\">                require([\"plotly\"], function(Plotly) {                    window.PLOTLYENV=window.PLOTLYENV || {};                                    if (document.getElementById(\"942d2d1b-a3a7-417c-8071-2bef268379da\")) {                    Plotly.newPlot(                        \"942d2d1b-a3a7-417c-8071-2bef268379da\",                        [{\"alignmentgroup\":\"True\",\"hovertemplate\":\"Entity=%{x}\\u003cbr\\u003eElectricity from fossil fuels (TWh)=%{y}\\u003cextra\\u003e\\u003c\\u002fextra\\u003e\",\"legendgroup\":\"\",\"marker\":{\"color\":\"#636efa\",\"pattern\":{\"shape\":\"\"}},\"name\":\"\",\"offsetgroup\":\"\",\"orientation\":\"v\",\"showlegend\":false,\"textposition\":\"auto\",\"x\":[\"Afghanistan\",\"Albania\",\"Algeria\",\"Angola\",\"Antigua and Barbuda\",\"Argentina\",\"Armenia\",\"Aruba\",\"Australia\",\"Austria\",\"Azerbaijan\",\"Bahamas\",\"Bahrain\",\"Bangladesh\",\"Barbados\",\"Belarus\",\"Belgium\",\"Belize\",\"Benin\",\"Bermuda\",\"Bhutan\",\"Bosnia and Herzegovina\",\"Botswana\",\"Brazil\",\"Bulgaria\",\"Burkina Faso\",\"Burundi\",\"Cambodia\",\"Cameroon\",\"Canada\",\"Cayman Islands\",\"Central African Republic\",\"Chad\",\"Chile\",\"China\",\"Colombia\",\"Comoros\",\"Congo\",\"Costa Rica\",\"Croatia\",\"Cuba\",\"Cyprus\",\"Czechia\",\"Denmark\",\"Djibouti\",\"Dominica\",\"Dominican Republic\",\"Ecuador\",\"Egypt\",\"El Salvador\",\"Equatorial Guinea\",\"Eritrea\",\"Estonia\",\"Eswatini\",\"Ethiopia\",\"Fiji\",\"Finland\",\"France\",\"Gabon\",\"Gambia\",\"Georgia\",\"Germany\",\"Ghana\",\"Greece\",\"Grenada\",\"Guatemala\",\"Guinea\",\"Guinea-Bissau\",\"Guyana\",\"Haiti\",\"Honduras\",\"Hungary\",\"Iceland\",\"India\",\"Indonesia\",\"Iraq\",\"Ireland\",\"Israel\",\"Italy\",\"Jamaica\",\"Japan\",\"Jordan\",\"Kazakhstan\",\"Kenya\",\"Kiribati\",\"Kuwait\",\"Kyrgyzstan\",\"Latvia\",\"Lebanon\",\"Lesotho\",\"Liberia\",\"Libya\",\"Lithuania\",\"Luxembourg\",\"Madagascar\",\"Malawi\",\"Malaysia\",\"Maldives\",\"Mali\",\"Malta\",\"Mauritania\",\"Mauritius\",\"Mexico\",\"Mongolia\",\"Montenegro\",\"Morocco\",\"Mozambique\",\"Myanmar\",\"Namibia\",\"Nauru\",\"Nepal\",\"Netherlands\",\"New Caledonia\",\"New Zealand\",\"Nicaragua\",\"Niger\",\"Nigeria\",\"North Macedonia\",\"Norway\",\"Oman\",\"Pakistan\",\"Panama\",\"Papua New Guinea\",\"Paraguay\",\"Peru\",\"Philippines\",\"Poland\",\"Portugal\",\"Puerto Rico\",\"Qatar\",\"Romania\",\"Rwanda\",\"Saint Kitts and Nevis\",\"Saint Lucia\",\"Saint Vincent and the Grenadines\",\"Samoa\",\"Sao Tome and Principe\",\"Saudi Arabia\",\"Senegal\",\"Serbia\",\"Seychelles\",\"Sierra Leone\",\"Singapore\",\"Slovakia\",\"Slovenia\",\"Solomon Islands\",\"Somalia\",\"South Africa\",\"South Sudan\",\"Spain\",\"Sri Lanka\",\"Sudan\",\"Suriname\",\"Sweden\",\"Switzerland\",\"Tajikistan\",\"Thailand\",\"Togo\",\"Tonga\",\"Trinidad and Tobago\",\"Tunisia\",\"Turkey\",\"Turkmenistan\",\"Uganda\",\"Ukraine\",\"United Arab Emirates\",\"United Kingdom\",\"United States\",\"Uruguay\",\"Uzbekistan\",\"Vanuatu\",\"Yemen\",\"Zambia\",\"Zimbabwe\"],\"xaxis\":\"x\",\"y\":[0.18,0.0,75.85,4.38,0.33,90.56,2.86,0.77,196.45,16.22,22.91,2.1,31.43,78.37,0.98,36.74,29.32,0.41,0.19,0.0,0.0,10.36,3.05,90.91,19.75,1.51,0.12,3.94,2.99,110.65,0.68,0.0,0.3,45.16,5098.22,23.84,0.1,2.72,0.25,4.31,16.54,4.63,45.44,6.44,0.06,0.07,16.91,7.09,173.86,1.84,0.95,0.43,5.47,0.04,0.01,0.42,12.63,53.5,1.25,0.3,2.67,284.09,9.37,32.48,0.21,5.51,0.75,0.08,1.06,0.85,5.39,13.2,0.0,1273.59,247.39,83.85,18.92,68.82,175.52,3.6,735.66,16.41,95.39,1.25,0.03,70.45,1.13,3.25,19.24,0.0,0.31,31.68,0.67,0.27,1.1,0.2,149.7,0.61,2.15,1.86,1.36,2.5,248.2,5.88,1.5,32.38,3.65,12.78,0.04,0.03,0.0,94.09,2.6,7.84,2.17,0.56,23.16,4.53,2.76,36.03,86.44,4.15,3.16,0.07,22.16,83.3,137.58,24.32,16.8,46.98,23.27,0.55,0.21,0.35,0.12,0.09,0.08,335.24,4.45,26.35,0.49,0.02,50.96,6.26,5.03,0.1,0.33,208.39,0.55,111.55,10.18,5.98,0.99,3.35,3.58,1.42,162.59,0.45,0.06,8.63,19.73,170.53,21.18,0.09,57.79,125.85,144.99,2588.21,1.89,53.64,0.05,2.93,2.05,3.66],\"yaxis\":\"y\",\"type\":\"bar\"}],                        {\"template\":{\"data\":{\"histogram2dcontour\":[{\"type\":\"histogram2dcontour\",\"colorbar\":{\"outlinewidth\":0,\"ticks\":\"\"},\"colorscale\":[[0.0,\"#0d0887\"],[0.1111111111111111,\"#46039f\"],[0.2222222222222222,\"#7201a8\"],[0.3333333333333333,\"#9c179e\"],[0.4444444444444444,\"#bd3786\"],[0.5555555555555556,\"#d8576b\"],[0.6666666666666666,\"#ed7953\"],[0.7777777777777778,\"#fb9f3a\"],[0.8888888888888888,\"#fdca26\"],[1.0,\"#f0f921\"]]}],\"choropleth\":[{\"type\":\"choropleth\",\"colorbar\":{\"outlinewidth\":0,\"ticks\":\"\"}}],\"histogram2d\":[{\"type\":\"histogram2d\",\"colorbar\":{\"outlinewidth\":0,\"ticks\":\"\"},\"colorscale\":[[0.0,\"#0d0887\"],[0.1111111111111111,\"#46039f\"],[0.2222222222222222,\"#7201a8\"],[0.3333333333333333,\"#9c179e\"],[0.4444444444444444,\"#bd3786\"],[0.5555555555555556,\"#d8576b\"],[0.6666666666666666,\"#ed7953\"],[0.7777777777777778,\"#fb9f3a\"],[0.8888888888888888,\"#fdca26\"],[1.0,\"#f0f921\"]]}],\"heatmap\":[{\"type\":\"heatmap\",\"colorbar\":{\"outlinewidth\":0,\"ticks\":\"\"},\"colorscale\":[[0.0,\"#0d0887\"],[0.1111111111111111,\"#46039f\"],[0.2222222222222222,\"#7201a8\"],[0.3333333333333333,\"#9c179e\"],[0.4444444444444444,\"#bd3786\"],[0.5555555555555556,\"#d8576b\"],[0.6666666666666666,\"#ed7953\"],[0.7777777777777778,\"#fb9f3a\"],[0.8888888888888888,\"#fdca26\"],[1.0,\"#f0f921\"]]}],\"heatmapgl\":[{\"type\":\"heatmapgl\",\"colorbar\":{\"outlinewidth\":0,\"ticks\":\"\"},\"colorscale\":[[0.0,\"#0d0887\"],[0.1111111111111111,\"#46039f\"],[0.2222222222222222,\"#7201a8\"],[0.3333333333333333,\"#9c179e\"],[0.4444444444444444,\"#bd3786\"],[0.5555555555555556,\"#d8576b\"],[0.6666666666666666,\"#ed7953\"],[0.7777777777777778,\"#fb9f3a\"],[0.8888888888888888,\"#fdca26\"],[1.0,\"#f0f921\"]]}],\"contourcarpet\":[{\"type\":\"contourcarpet\",\"colorbar\":{\"outlinewidth\":0,\"ticks\":\"\"}}],\"contour\":[{\"type\":\"contour\",\"colorbar\":{\"outlinewidth\":0,\"ticks\":\"\"},\"colorscale\":[[0.0,\"#0d0887\"],[0.1111111111111111,\"#46039f\"],[0.2222222222222222,\"#7201a8\"],[0.3333333333333333,\"#9c179e\"],[0.4444444444444444,\"#bd3786\"],[0.5555555555555556,\"#d8576b\"],[0.6666666666666666,\"#ed7953\"],[0.7777777777777778,\"#fb9f3a\"],[0.8888888888888888,\"#fdca26\"],[1.0,\"#f0f921\"]]}],\"surface\":[{\"type\":\"surface\",\"colorbar\":{\"outlinewidth\":0,\"ticks\":\"\"},\"colorscale\":[[0.0,\"#0d0887\"],[0.1111111111111111,\"#46039f\"],[0.2222222222222222,\"#7201a8\"],[0.3333333333333333,\"#9c179e\"],[0.4444444444444444,\"#bd3786\"],[0.5555555555555556,\"#d8576b\"],[0.6666666666666666,\"#ed7953\"],[0.7777777777777778,\"#fb9f3a\"],[0.8888888888888888,\"#fdca26\"],[1.0,\"#f0f921\"]]}],\"mesh3d\":[{\"type\":\"mesh3d\",\"colorbar\":{\"outlinewidth\":0,\"ticks\":\"\"}}],\"scatter\":[{\"fillpattern\":{\"fillmode\":\"overlay\",\"size\":10,\"solidity\":0.2},\"type\":\"scatter\"}],\"parcoords\":[{\"type\":\"parcoords\",\"line\":{\"colorbar\":{\"outlinewidth\":0,\"ticks\":\"\"}}}],\"scatterpolargl\":[{\"type\":\"scatterpolargl\",\"marker\":{\"colorbar\":{\"outlinewidth\":0,\"ticks\":\"\"}}}],\"bar\":[{\"error_x\":{\"color\":\"#2a3f5f\"},\"error_y\":{\"color\":\"#2a3f5f\"},\"marker\":{\"line\":{\"color\":\"#E5ECF6\",\"width\":0.5},\"pattern\":{\"fillmode\":\"overlay\",\"size\":10,\"solidity\":0.2}},\"type\":\"bar\"}],\"scattergeo\":[{\"type\":\"scattergeo\",\"marker\":{\"colorbar\":{\"outlinewidth\":0,\"ticks\":\"\"}}}],\"scatterpolar\":[{\"type\":\"scatterpolar\",\"marker\":{\"colorbar\":{\"outlinewidth\":0,\"ticks\":\"\"}}}],\"histogram\":[{\"marker\":{\"pattern\":{\"fillmode\":\"overlay\",\"size\":10,\"solidity\":0.2}},\"type\":\"histogram\"}],\"scattergl\":[{\"type\":\"scattergl\",\"marker\":{\"colorbar\":{\"outlinewidth\":0,\"ticks\":\"\"}}}],\"scatter3d\":[{\"type\":\"scatter3d\",\"line\":{\"colorbar\":{\"outlinewidth\":0,\"ticks\":\"\"}},\"marker\":{\"colorbar\":{\"outlinewidth\":0,\"ticks\":\"\"}}}],\"scattermapbox\":[{\"type\":\"scattermapbox\",\"marker\":{\"colorbar\":{\"outlinewidth\":0,\"ticks\":\"\"}}}],\"scatterternary\":[{\"type\":\"scatterternary\",\"marker\":{\"colorbar\":{\"outlinewidth\":0,\"ticks\":\"\"}}}],\"scattercarpet\":[{\"type\":\"scattercarpet\",\"marker\":{\"colorbar\":{\"outlinewidth\":0,\"ticks\":\"\"}}}],\"carpet\":[{\"aaxis\":{\"endlinecolor\":\"#2a3f5f\",\"gridcolor\":\"white\",\"linecolor\":\"white\",\"minorgridcolor\":\"white\",\"startlinecolor\":\"#2a3f5f\"},\"baxis\":{\"endlinecolor\":\"#2a3f5f\",\"gridcolor\":\"white\",\"linecolor\":\"white\",\"minorgridcolor\":\"white\",\"startlinecolor\":\"#2a3f5f\"},\"type\":\"carpet\"}],\"table\":[{\"cells\":{\"fill\":{\"color\":\"#EBF0F8\"},\"line\":{\"color\":\"white\"}},\"header\":{\"fill\":{\"color\":\"#C8D4E3\"},\"line\":{\"color\":\"white\"}},\"type\":\"table\"}],\"barpolar\":[{\"marker\":{\"line\":{\"color\":\"#E5ECF6\",\"width\":0.5},\"pattern\":{\"fillmode\":\"overlay\",\"size\":10,\"solidity\":0.2}},\"type\":\"barpolar\"}],\"pie\":[{\"automargin\":true,\"type\":\"pie\"}]},\"layout\":{\"autotypenumbers\":\"strict\",\"colorway\":[\"#636efa\",\"#EF553B\",\"#00cc96\",\"#ab63fa\",\"#FFA15A\",\"#19d3f3\",\"#FF6692\",\"#B6E880\",\"#FF97FF\",\"#FECB52\"],\"font\":{\"color\":\"#2a3f5f\"},\"hovermode\":\"closest\",\"hoverlabel\":{\"align\":\"left\"},\"paper_bgcolor\":\"white\",\"plot_bgcolor\":\"#E5ECF6\",\"polar\":{\"bgcolor\":\"#E5ECF6\",\"angularaxis\":{\"gridcolor\":\"white\",\"linecolor\":\"white\",\"ticks\":\"\"},\"radialaxis\":{\"gridcolor\":\"white\",\"linecolor\":\"white\",\"ticks\":\"\"}},\"ternary\":{\"bgcolor\":\"#E5ECF6\",\"aaxis\":{\"gridcolor\":\"white\",\"linecolor\":\"white\",\"ticks\":\"\"},\"baxis\":{\"gridcolor\":\"white\",\"linecolor\":\"white\",\"ticks\":\"\"},\"caxis\":{\"gridcolor\":\"white\",\"linecolor\":\"white\",\"ticks\":\"\"}},\"coloraxis\":{\"colorbar\":{\"outlinewidth\":0,\"ticks\":\"\"}},\"colorscale\":{\"sequential\":[[0.0,\"#0d0887\"],[0.1111111111111111,\"#46039f\"],[0.2222222222222222,\"#7201a8\"],[0.3333333333333333,\"#9c179e\"],[0.4444444444444444,\"#bd3786\"],[0.5555555555555556,\"#d8576b\"],[0.6666666666666666,\"#ed7953\"],[0.7777777777777778,\"#fb9f3a\"],[0.8888888888888888,\"#fdca26\"],[1.0,\"#f0f921\"]],\"sequentialminus\":[[0.0,\"#0d0887\"],[0.1111111111111111,\"#46039f\"],[0.2222222222222222,\"#7201a8\"],[0.3333333333333333,\"#9c179e\"],[0.4444444444444444,\"#bd3786\"],[0.5555555555555556,\"#d8576b\"],[0.6666666666666666,\"#ed7953\"],[0.7777777777777778,\"#fb9f3a\"],[0.8888888888888888,\"#fdca26\"],[1.0,\"#f0f921\"]],\"diverging\":[[0,\"#8e0152\"],[0.1,\"#c51b7d\"],[0.2,\"#de77ae\"],[0.3,\"#f1b6da\"],[0.4,\"#fde0ef\"],[0.5,\"#f7f7f7\"],[0.6,\"#e6f5d0\"],[0.7,\"#b8e186\"],[0.8,\"#7fbc41\"],[0.9,\"#4d9221\"],[1,\"#276419\"]]},\"xaxis\":{\"gridcolor\":\"white\",\"linecolor\":\"white\",\"ticks\":\"\",\"title\":{\"standoff\":15},\"zerolinecolor\":\"white\",\"automargin\":true,\"zerolinewidth\":2},\"yaxis\":{\"gridcolor\":\"white\",\"linecolor\":\"white\",\"ticks\":\"\",\"title\":{\"standoff\":15},\"zerolinecolor\":\"white\",\"automargin\":true,\"zerolinewidth\":2},\"scene\":{\"xaxis\":{\"backgroundcolor\":\"#E5ECF6\",\"gridcolor\":\"white\",\"linecolor\":\"white\",\"showbackground\":true,\"ticks\":\"\",\"zerolinecolor\":\"white\",\"gridwidth\":2},\"yaxis\":{\"backgroundcolor\":\"#E5ECF6\",\"gridcolor\":\"white\",\"linecolor\":\"white\",\"showbackground\":true,\"ticks\":\"\",\"zerolinecolor\":\"white\",\"gridwidth\":2},\"zaxis\":{\"backgroundcolor\":\"#E5ECF6\",\"gridcolor\":\"white\",\"linecolor\":\"white\",\"showbackground\":true,\"ticks\":\"\",\"zerolinecolor\":\"white\",\"gridwidth\":2}},\"shapedefaults\":{\"line\":{\"color\":\"#2a3f5f\"}},\"annotationdefaults\":{\"arrowcolor\":\"#2a3f5f\",\"arrowhead\":0,\"arrowwidth\":1},\"geo\":{\"bgcolor\":\"white\",\"landcolor\":\"#E5ECF6\",\"subunitcolor\":\"white\",\"showland\":true,\"showlakes\":true,\"lakecolor\":\"white\"},\"title\":{\"x\":0.05},\"mapbox\":{\"style\":\"light\"}}},\"xaxis\":{\"anchor\":\"y\",\"domain\":[0.0,1.0],\"title\":{\"text\":\"Entity\"}},\"yaxis\":{\"anchor\":\"x\",\"domain\":[0.0,1.0],\"title\":{\"text\":\"Electricity from fossil fuels (TWh)\"}},\"legend\":{\"tracegroupgap\":0},\"margin\":{\"t\":60},\"barmode\":\"relative\",\"title\":{\"text\":\"Fossil Fuels Electricity - (TWh)Terawatt Hour\",\"x\":0.5}},                        {\"responsive\": true}                    ).then(function(){\n",
       "                            \n",
       "var gd = document.getElementById('942d2d1b-a3a7-417c-8071-2bef268379da');\n",
       "var x = new MutationObserver(function (mutations, observer) {{\n",
       "        var display = window.getComputedStyle(gd).display;\n",
       "        if (!display || display === 'none') {{\n",
       "            console.log([gd, 'removed!']);\n",
       "            Plotly.purge(gd);\n",
       "            observer.disconnect();\n",
       "        }}\n",
       "}});\n",
       "\n",
       "// Listen for the removal of the full notebook cells\n",
       "var notebookContainer = gd.closest('#notebook-container');\n",
       "if (notebookContainer) {{\n",
       "    x.observe(notebookContainer, {childList: true});\n",
       "}}\n",
       "\n",
       "// Listen for the clearing of the current output cell\n",
       "var outputEl = gd.closest('.output');\n",
       "if (outputEl) {{\n",
       "    x.observe(outputEl, {childList: true});\n",
       "}}\n",
       "\n",
       "                        })                };                });            </script>        </div>"
      ]
     },
     "metadata": {},
     "output_type": "display_data"
    }
   ],
   "source": [
    "fig_fossil_fuel_2019 = px.bar(energy_data_fossil_fuels_2019, x='Entity', y='Electricity from fossil fuels (TWh)')\n",
    "\n",
    "fig_fossil_fuel_2019.update_layout(title={\n",
    "    'text': 'Fossil Fuels Electricity - (TWh)Terawatt Hour',\n",
    "    'x': 0.5\n",
    "})\n",
    "\n",
    "fig_fossil_fuel_2019.show()"
   ]
  },
  {
   "cell_type": "markdown",
   "id": "339ba64f",
   "metadata": {
    "papermill": {
     "duration": 0.019407,
     "end_time": "2023-08-09T19:29:45.157229",
     "exception": false,
     "start_time": "2023-08-09T19:29:45.137822",
     "status": "completed"
    },
    "tags": []
   },
   "source": [
    "All right, it makes sense! The top 3 countries of Electricity from fossil fuels follows the same top 3 countries of CO2 emission.\n",
    "\n",
    "As these CO2 emissions aren't good for the world nature and health, let's see if there's money that is being invested to these countries for clean energy."
   ]
  },
  {
   "cell_type": "markdown",
   "id": "b2156116",
   "metadata": {
    "papermill": {
     "duration": 0.019313,
     "end_time": "2023-08-09T19:29:45.196126",
     "exception": false,
     "start_time": "2023-08-09T19:29:45.176813",
     "status": "completed"
    },
    "tags": []
   },
   "source": [
    "# CO2 emission and international finance received for clean energy"
   ]
  },
  {
   "cell_type": "code",
   "execution_count": 27,
   "id": "b8fe709f",
   "metadata": {
    "execution": {
     "iopub.execute_input": "2023-08-09T19:29:45.240271Z",
     "iopub.status.busy": "2023-08-09T19:29:45.239828Z",
     "iopub.status.idle": "2023-08-09T19:29:45.248842Z",
     "shell.execute_reply": "2023-08-09T19:29:45.247701Z"
    },
    "papermill": {
     "duration": 0.033136,
     "end_time": "2023-08-09T19:29:45.251610",
     "exception": false,
     "start_time": "2023-08-09T19:29:45.218474",
     "status": "completed"
    },
    "tags": []
   },
   "outputs": [],
   "source": [
    "energy_data_financial = energy_data[['Entity', 'Year', 'Financial flows to developing countries (US $)']]\n",
    "\n",
    "energy_data_financial_2019 = energy_data_financial[(energy_data_financial['Year'] == 2019)].dropna()"
   ]
  },
  {
   "cell_type": "code",
   "execution_count": 28,
   "id": "87cec4d7",
   "metadata": {
    "execution": {
     "iopub.execute_input": "2023-08-09T19:29:45.292577Z",
     "iopub.status.busy": "2023-08-09T19:29:45.292135Z",
     "iopub.status.idle": "2023-08-09T19:29:45.363862Z",
     "shell.execute_reply": "2023-08-09T19:29:45.362812Z"
    },
    "papermill": {
     "duration": 0.094862,
     "end_time": "2023-08-09T19:29:45.366354",
     "exception": false,
     "start_time": "2023-08-09T19:29:45.271492",
     "status": "completed"
    },
    "tags": []
   },
   "outputs": [
    {
     "data": {
      "text/html": [
       "<div>                            <div id=\"cdb40b03-aa42-4938-8c43-011054044a22\" class=\"plotly-graph-div\" style=\"height:525px; width:100%;\"></div>            <script type=\"text/javascript\">                require([\"plotly\"], function(Plotly) {                    window.PLOTLYENV=window.PLOTLYENV || {};                                    if (document.getElementById(\"cdb40b03-aa42-4938-8c43-011054044a22\")) {                    Plotly.newPlot(                        \"cdb40b03-aa42-4938-8c43-011054044a22\",                        [{\"alignmentgroup\":\"True\",\"hovertemplate\":\"Entity=%{x}\\u003cbr\\u003eFinancial flows to developing countries (US $)=%{y}\\u003cextra\\u003e\\u003c\\u002fextra\\u003e\",\"legendgroup\":\"\",\"marker\":{\"color\":\"#636efa\",\"pattern\":{\"shape\":\"\"}},\"name\":\"\",\"offsetgroup\":\"\",\"orientation\":\"v\",\"showlegend\":false,\"textposition\":\"auto\",\"x\":[\"Afghanistan\",\"Algeria\",\"Angola\",\"Argentina\",\"Armenia\",\"Bahamas\",\"Bangladesh\",\"Barbados\",\"Belize\",\"Benin\",\"Bhutan\",\"Brazil\",\"Burkina Faso\",\"Burundi\",\"Cambodia\",\"Cameroon\",\"Central African Republic\",\"China\",\"Colombia\",\"Congo\",\"Costa Rica\",\"Cuba\",\"Djibouti\",\"Dominica\",\"Dominican Republic\",\"Ecuador\",\"Egypt\",\"El Salvador\",\"Ethiopia\",\"Fiji\",\"Gambia\",\"Georgia\",\"Ghana\",\"Guatemala\",\"Guinea\",\"Guinea-Bissau\",\"Guyana\",\"Haiti\",\"Honduras\",\"India\",\"Indonesia\",\"Jamaica\",\"Jordan\",\"Kazakhstan\",\"Kenya\",\"Kyrgyzstan\",\"Lebanon\",\"Lesotho\",\"Liberia\",\"Madagascar\",\"Malawi\",\"Malaysia\",\"Maldives\",\"Mali\",\"Mauritania\",\"Mexico\",\"Mongolia\",\"Morocco\",\"Mozambique\",\"Myanmar\",\"Namibia\",\"Nepal\",\"Nicaragua\",\"Niger\",\"Nigeria\",\"Pakistan\",\"Panama\",\"Papua New Guinea\",\"Paraguay\",\"Peru\",\"Philippines\",\"Rwanda\",\"Senegal\",\"Sierra Leone\",\"Solomon Islands\",\"Somalia\",\"South Africa\",\"South Sudan\",\"Sri Lanka\",\"Sudan\",\"Suriname\",\"Thailand\",\"Togo\",\"Tonga\",\"Tunisia\",\"Turkey\",\"Turkmenistan\",\"Tuvalu\",\"Uganda\",\"Uzbekistan\",\"Vanuatu\",\"Yemen\",\"Zambia\",\"Zimbabwe\"],\"xaxis\":\"x\",\"y\":[4620000.0,60000.0,60000.0,474460000.0,72580000.0,560000.0,137390000.0,34100000.0,260000.0,40000.0,700000.0,50980000.0,45840000.0,89840000.0,360000.0,7360000.0,50050000.0,201540000.0,152510000.0,90000.0,680000.0,5670000.0,26860000.0,8940000.0,42670000.0,60120000.0,340400000.0,1180000.0,56700000.0,110000.0,11870000.0,23940000.0,3360000.0,56590000.0,819800000.0,230000.0,14630000.0,39510000.0,960000.0,786330000.0,215790000.0,180000.0,73760000.0,279670000.0,165780000.0,86210000.0,320000.0,13520000.0,37570000.0,43730000.0,101610000.0,20000.0,4020000.0,44950000.0,1000000.0,338650000.0,10600000.0,413480000.0,188450000.0,41330000.0,20000.0,332730000.0,7660000.0,108900000.0,1172580000.0,302840000.0,90010000.0,120000.0,1160000.0,1090000.0,2000000.0,1560000.0,68930000.0,170000.0,46400000.0,21490000.0,164100000.0,100000.0,170000.0,207170000.0,22500000.0,99160000.0,1150000.0,2450000.0,80070000.0,360120000.0,40000.0,6160000.0,66480000.0,65940000.0,150000.0,1200000.0,78570000.0,250000.0],\"yaxis\":\"y\",\"type\":\"bar\"}],                        {\"template\":{\"data\":{\"histogram2dcontour\":[{\"type\":\"histogram2dcontour\",\"colorbar\":{\"outlinewidth\":0,\"ticks\":\"\"},\"colorscale\":[[0.0,\"#0d0887\"],[0.1111111111111111,\"#46039f\"],[0.2222222222222222,\"#7201a8\"],[0.3333333333333333,\"#9c179e\"],[0.4444444444444444,\"#bd3786\"],[0.5555555555555556,\"#d8576b\"],[0.6666666666666666,\"#ed7953\"],[0.7777777777777778,\"#fb9f3a\"],[0.8888888888888888,\"#fdca26\"],[1.0,\"#f0f921\"]]}],\"choropleth\":[{\"type\":\"choropleth\",\"colorbar\":{\"outlinewidth\":0,\"ticks\":\"\"}}],\"histogram2d\":[{\"type\":\"histogram2d\",\"colorbar\":{\"outlinewidth\":0,\"ticks\":\"\"},\"colorscale\":[[0.0,\"#0d0887\"],[0.1111111111111111,\"#46039f\"],[0.2222222222222222,\"#7201a8\"],[0.3333333333333333,\"#9c179e\"],[0.4444444444444444,\"#bd3786\"],[0.5555555555555556,\"#d8576b\"],[0.6666666666666666,\"#ed7953\"],[0.7777777777777778,\"#fb9f3a\"],[0.8888888888888888,\"#fdca26\"],[1.0,\"#f0f921\"]]}],\"heatmap\":[{\"type\":\"heatmap\",\"colorbar\":{\"outlinewidth\":0,\"ticks\":\"\"},\"colorscale\":[[0.0,\"#0d0887\"],[0.1111111111111111,\"#46039f\"],[0.2222222222222222,\"#7201a8\"],[0.3333333333333333,\"#9c179e\"],[0.4444444444444444,\"#bd3786\"],[0.5555555555555556,\"#d8576b\"],[0.6666666666666666,\"#ed7953\"],[0.7777777777777778,\"#fb9f3a\"],[0.8888888888888888,\"#fdca26\"],[1.0,\"#f0f921\"]]}],\"heatmapgl\":[{\"type\":\"heatmapgl\",\"colorbar\":{\"outlinewidth\":0,\"ticks\":\"\"},\"colorscale\":[[0.0,\"#0d0887\"],[0.1111111111111111,\"#46039f\"],[0.2222222222222222,\"#7201a8\"],[0.3333333333333333,\"#9c179e\"],[0.4444444444444444,\"#bd3786\"],[0.5555555555555556,\"#d8576b\"],[0.6666666666666666,\"#ed7953\"],[0.7777777777777778,\"#fb9f3a\"],[0.8888888888888888,\"#fdca26\"],[1.0,\"#f0f921\"]]}],\"contourcarpet\":[{\"type\":\"contourcarpet\",\"colorbar\":{\"outlinewidth\":0,\"ticks\":\"\"}}],\"contour\":[{\"type\":\"contour\",\"colorbar\":{\"outlinewidth\":0,\"ticks\":\"\"},\"colorscale\":[[0.0,\"#0d0887\"],[0.1111111111111111,\"#46039f\"],[0.2222222222222222,\"#7201a8\"],[0.3333333333333333,\"#9c179e\"],[0.4444444444444444,\"#bd3786\"],[0.5555555555555556,\"#d8576b\"],[0.6666666666666666,\"#ed7953\"],[0.7777777777777778,\"#fb9f3a\"],[0.8888888888888888,\"#fdca26\"],[1.0,\"#f0f921\"]]}],\"surface\":[{\"type\":\"surface\",\"colorbar\":{\"outlinewidth\":0,\"ticks\":\"\"},\"colorscale\":[[0.0,\"#0d0887\"],[0.1111111111111111,\"#46039f\"],[0.2222222222222222,\"#7201a8\"],[0.3333333333333333,\"#9c179e\"],[0.4444444444444444,\"#bd3786\"],[0.5555555555555556,\"#d8576b\"],[0.6666666666666666,\"#ed7953\"],[0.7777777777777778,\"#fb9f3a\"],[0.8888888888888888,\"#fdca26\"],[1.0,\"#f0f921\"]]}],\"mesh3d\":[{\"type\":\"mesh3d\",\"colorbar\":{\"outlinewidth\":0,\"ticks\":\"\"}}],\"scatter\":[{\"fillpattern\":{\"fillmode\":\"overlay\",\"size\":10,\"solidity\":0.2},\"type\":\"scatter\"}],\"parcoords\":[{\"type\":\"parcoords\",\"line\":{\"colorbar\":{\"outlinewidth\":0,\"ticks\":\"\"}}}],\"scatterpolargl\":[{\"type\":\"scatterpolargl\",\"marker\":{\"colorbar\":{\"outlinewidth\":0,\"ticks\":\"\"}}}],\"bar\":[{\"error_x\":{\"color\":\"#2a3f5f\"},\"error_y\":{\"color\":\"#2a3f5f\"},\"marker\":{\"line\":{\"color\":\"#E5ECF6\",\"width\":0.5},\"pattern\":{\"fillmode\":\"overlay\",\"size\":10,\"solidity\":0.2}},\"type\":\"bar\"}],\"scattergeo\":[{\"type\":\"scattergeo\",\"marker\":{\"colorbar\":{\"outlinewidth\":0,\"ticks\":\"\"}}}],\"scatterpolar\":[{\"type\":\"scatterpolar\",\"marker\":{\"colorbar\":{\"outlinewidth\":0,\"ticks\":\"\"}}}],\"histogram\":[{\"marker\":{\"pattern\":{\"fillmode\":\"overlay\",\"size\":10,\"solidity\":0.2}},\"type\":\"histogram\"}],\"scattergl\":[{\"type\":\"scattergl\",\"marker\":{\"colorbar\":{\"outlinewidth\":0,\"ticks\":\"\"}}}],\"scatter3d\":[{\"type\":\"scatter3d\",\"line\":{\"colorbar\":{\"outlinewidth\":0,\"ticks\":\"\"}},\"marker\":{\"colorbar\":{\"outlinewidth\":0,\"ticks\":\"\"}}}],\"scattermapbox\":[{\"type\":\"scattermapbox\",\"marker\":{\"colorbar\":{\"outlinewidth\":0,\"ticks\":\"\"}}}],\"scatterternary\":[{\"type\":\"scatterternary\",\"marker\":{\"colorbar\":{\"outlinewidth\":0,\"ticks\":\"\"}}}],\"scattercarpet\":[{\"type\":\"scattercarpet\",\"marker\":{\"colorbar\":{\"outlinewidth\":0,\"ticks\":\"\"}}}],\"carpet\":[{\"aaxis\":{\"endlinecolor\":\"#2a3f5f\",\"gridcolor\":\"white\",\"linecolor\":\"white\",\"minorgridcolor\":\"white\",\"startlinecolor\":\"#2a3f5f\"},\"baxis\":{\"endlinecolor\":\"#2a3f5f\",\"gridcolor\":\"white\",\"linecolor\":\"white\",\"minorgridcolor\":\"white\",\"startlinecolor\":\"#2a3f5f\"},\"type\":\"carpet\"}],\"table\":[{\"cells\":{\"fill\":{\"color\":\"#EBF0F8\"},\"line\":{\"color\":\"white\"}},\"header\":{\"fill\":{\"color\":\"#C8D4E3\"},\"line\":{\"color\":\"white\"}},\"type\":\"table\"}],\"barpolar\":[{\"marker\":{\"line\":{\"color\":\"#E5ECF6\",\"width\":0.5},\"pattern\":{\"fillmode\":\"overlay\",\"size\":10,\"solidity\":0.2}},\"type\":\"barpolar\"}],\"pie\":[{\"automargin\":true,\"type\":\"pie\"}]},\"layout\":{\"autotypenumbers\":\"strict\",\"colorway\":[\"#636efa\",\"#EF553B\",\"#00cc96\",\"#ab63fa\",\"#FFA15A\",\"#19d3f3\",\"#FF6692\",\"#B6E880\",\"#FF97FF\",\"#FECB52\"],\"font\":{\"color\":\"#2a3f5f\"},\"hovermode\":\"closest\",\"hoverlabel\":{\"align\":\"left\"},\"paper_bgcolor\":\"white\",\"plot_bgcolor\":\"#E5ECF6\",\"polar\":{\"bgcolor\":\"#E5ECF6\",\"angularaxis\":{\"gridcolor\":\"white\",\"linecolor\":\"white\",\"ticks\":\"\"},\"radialaxis\":{\"gridcolor\":\"white\",\"linecolor\":\"white\",\"ticks\":\"\"}},\"ternary\":{\"bgcolor\":\"#E5ECF6\",\"aaxis\":{\"gridcolor\":\"white\",\"linecolor\":\"white\",\"ticks\":\"\"},\"baxis\":{\"gridcolor\":\"white\",\"linecolor\":\"white\",\"ticks\":\"\"},\"caxis\":{\"gridcolor\":\"white\",\"linecolor\":\"white\",\"ticks\":\"\"}},\"coloraxis\":{\"colorbar\":{\"outlinewidth\":0,\"ticks\":\"\"}},\"colorscale\":{\"sequential\":[[0.0,\"#0d0887\"],[0.1111111111111111,\"#46039f\"],[0.2222222222222222,\"#7201a8\"],[0.3333333333333333,\"#9c179e\"],[0.4444444444444444,\"#bd3786\"],[0.5555555555555556,\"#d8576b\"],[0.6666666666666666,\"#ed7953\"],[0.7777777777777778,\"#fb9f3a\"],[0.8888888888888888,\"#fdca26\"],[1.0,\"#f0f921\"]],\"sequentialminus\":[[0.0,\"#0d0887\"],[0.1111111111111111,\"#46039f\"],[0.2222222222222222,\"#7201a8\"],[0.3333333333333333,\"#9c179e\"],[0.4444444444444444,\"#bd3786\"],[0.5555555555555556,\"#d8576b\"],[0.6666666666666666,\"#ed7953\"],[0.7777777777777778,\"#fb9f3a\"],[0.8888888888888888,\"#fdca26\"],[1.0,\"#f0f921\"]],\"diverging\":[[0,\"#8e0152\"],[0.1,\"#c51b7d\"],[0.2,\"#de77ae\"],[0.3,\"#f1b6da\"],[0.4,\"#fde0ef\"],[0.5,\"#f7f7f7\"],[0.6,\"#e6f5d0\"],[0.7,\"#b8e186\"],[0.8,\"#7fbc41\"],[0.9,\"#4d9221\"],[1,\"#276419\"]]},\"xaxis\":{\"gridcolor\":\"white\",\"linecolor\":\"white\",\"ticks\":\"\",\"title\":{\"standoff\":15},\"zerolinecolor\":\"white\",\"automargin\":true,\"zerolinewidth\":2},\"yaxis\":{\"gridcolor\":\"white\",\"linecolor\":\"white\",\"ticks\":\"\",\"title\":{\"standoff\":15},\"zerolinecolor\":\"white\",\"automargin\":true,\"zerolinewidth\":2},\"scene\":{\"xaxis\":{\"backgroundcolor\":\"#E5ECF6\",\"gridcolor\":\"white\",\"linecolor\":\"white\",\"showbackground\":true,\"ticks\":\"\",\"zerolinecolor\":\"white\",\"gridwidth\":2},\"yaxis\":{\"backgroundcolor\":\"#E5ECF6\",\"gridcolor\":\"white\",\"linecolor\":\"white\",\"showbackground\":true,\"ticks\":\"\",\"zerolinecolor\":\"white\",\"gridwidth\":2},\"zaxis\":{\"backgroundcolor\":\"#E5ECF6\",\"gridcolor\":\"white\",\"linecolor\":\"white\",\"showbackground\":true,\"ticks\":\"\",\"zerolinecolor\":\"white\",\"gridwidth\":2}},\"shapedefaults\":{\"line\":{\"color\":\"#2a3f5f\"}},\"annotationdefaults\":{\"arrowcolor\":\"#2a3f5f\",\"arrowhead\":0,\"arrowwidth\":1},\"geo\":{\"bgcolor\":\"white\",\"landcolor\":\"#E5ECF6\",\"subunitcolor\":\"white\",\"showland\":true,\"showlakes\":true,\"lakecolor\":\"white\"},\"title\":{\"x\":0.05},\"mapbox\":{\"style\":\"light\"}}},\"xaxis\":{\"anchor\":\"y\",\"domain\":[0.0,1.0],\"title\":{\"text\":\"Entity\"}},\"yaxis\":{\"anchor\":\"x\",\"domain\":[0.0,1.0],\"title\":{\"text\":\"Financial flows to developing countries (US $)\"}},\"legend\":{\"tracegroupgap\":0},\"margin\":{\"t\":60},\"barmode\":\"relative\",\"title\":{\"text\":\"International finance received for clean energy in USD per country\",\"x\":0.5}},                        {\"responsive\": true}                    ).then(function(){\n",
       "                            \n",
       "var gd = document.getElementById('cdb40b03-aa42-4938-8c43-011054044a22');\n",
       "var x = new MutationObserver(function (mutations, observer) {{\n",
       "        var display = window.getComputedStyle(gd).display;\n",
       "        if (!display || display === 'none') {{\n",
       "            console.log([gd, 'removed!']);\n",
       "            Plotly.purge(gd);\n",
       "            observer.disconnect();\n",
       "        }}\n",
       "}});\n",
       "\n",
       "// Listen for the removal of the full notebook cells\n",
       "var notebookContainer = gd.closest('#notebook-container');\n",
       "if (notebookContainer) {{\n",
       "    x.observe(notebookContainer, {childList: true});\n",
       "}}\n",
       "\n",
       "// Listen for the clearing of the current output cell\n",
       "var outputEl = gd.closest('.output');\n",
       "if (outputEl) {{\n",
       "    x.observe(outputEl, {childList: true});\n",
       "}}\n",
       "\n",
       "                        })                };                });            </script>        </div>"
      ]
     },
     "metadata": {},
     "output_type": "display_data"
    }
   ],
   "source": [
    "fig_financial_2019 = px.bar(energy_data_financial_2019, x='Entity', y='Financial flows to developing countries (US $)')\n",
    "\n",
    "fig_financial_2019.update_layout(title={\n",
    "    'text': 'International finance received for clean energy in USD per country',\n",
    "    'x': 0.5\n",
    "})\n",
    "\n",
    "fig_financial_2019.show()"
   ]
  },
  {
   "cell_type": "markdown",
   "id": "caf76674",
   "metadata": {
    "papermill": {
     "duration": 0.01959,
     "end_time": "2023-08-09T19:29:45.405875",
     "exception": false,
     "start_time": "2023-08-09T19:29:45.386285",
     "status": "completed"
    },
    "tags": []
   },
   "source": [
    "We can see that from the top 3 CO2 issuers countries in the world, only India gets a noticeable money for clean energy.\n",
    "\n",
    "I know that clean energy can be kind of complex, such as there are some places that only fits with a specific type of generating clean energy, that it's harder to maintain and other things. But the point that I would like to put here and creates a possible nice and healthy discussion is: the countries that emmits more CO2 in the planet wouldn't be the group that should recieve more money for trying to soften that emission? If so, why does it not happen?\n",
    "\n",
    "Finally, I would like to say that I'm just trying to undestand what's happening in the data here. But it's nice to visualize this things and talk to other people to get to know their opinion. Please, feel free to comment you ideas and let's talk about it."
   ]
  }
 ],
 "metadata": {
  "kernelspec": {
   "display_name": "Python 3 (ipykernel)",
   "language": "python",
   "name": "python3"
  },
  "language_info": {
   "codemirror_mode": {
    "name": "ipython",
    "version": 3
   },
   "file_extension": ".py",
   "mimetype": "text/x-python",
   "name": "python",
   "nbconvert_exporter": "python",
   "pygments_lexer": "ipython3",
   "version": "3.11.5"
  },
  "papermill": {
   "default_parameters": {},
   "duration": 17.034099,
   "end_time": "2023-08-09T19:29:46.347819",
   "environment_variables": {},
   "exception": null,
   "input_path": "__notebook__.ipynb",
   "output_path": "__notebook__.ipynb",
   "parameters": {},
   "start_time": "2023-08-09T19:29:29.313720",
   "version": "2.4.0"
  }
 },
 "nbformat": 4,
 "nbformat_minor": 5
}
